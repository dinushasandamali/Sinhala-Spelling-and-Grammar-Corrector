{
  "nbformat": 4,
  "nbformat_minor": 0,
  "metadata": {
    "colab": {
      "provenance": []
    },
    "kernelspec": {
      "name": "python3",
      "display_name": "Python 3"
    },
    "language_info": {
      "name": "python"
    }
  },
  "cells": [
    {
      "cell_type": "code",
      "execution_count": null,
      "metadata": {
        "id": "BGUuPpZKJlUI"
      },
      "outputs": [],
      "source": [
        "import re\n",
        "import nltk\n",
        "from sklearn.tree import DecisionTreeClassifier\n",
        "from sklearn.feature_extraction.text import CountVectorizer\n",
        "from sklearn.model_selection import train_test_split\n",
        "from sklearn.metrics import accuracy_score\n",
        "import json\n"
      ]
    },
    {
      "cell_type": "code",
      "source": [
        "# Download necessary NLTK resources\n",
        "nltk.download('punkt')\n",
        "nltk.download('averaged_perceptron_tagger')\n",
        "nltk.download('punkt_tab')"
      ],
      "metadata": {
        "colab": {
          "base_uri": "https://localhost:8080/"
        },
        "id": "5FvWxtorJmAe",
        "outputId": "95a6e2d4-3dde-4aa6-8d8f-5f088350be55"
      },
      "execution_count": null,
      "outputs": [
        {
          "output_type": "stream",
          "name": "stderr",
          "text": [
            "[nltk_data] Downloading package punkt to /root/nltk_data...\n",
            "[nltk_data]   Unzipping tokenizers/punkt.zip.\n",
            "[nltk_data] Downloading package averaged_perceptron_tagger to\n",
            "[nltk_data]     /root/nltk_data...\n",
            "[nltk_data]   Unzipping taggers/averaged_perceptron_tagger.zip.\n",
            "[nltk_data] Downloading package punkt_tab to /root/nltk_data...\n",
            "[nltk_data]   Unzipping tokenizers/punkt_tab.zip.\n"
          ]
        },
        {
          "output_type": "execute_result",
          "data": {
            "text/plain": [
              "True"
            ]
          },
          "metadata": {},
          "execution_count": 2
        }
      ]
    },
    {
      "cell_type": "code",
      "source": [
        "from google.colab import files\n",
        "\n",
        "uploaded = files.upload()"
      ],
      "metadata": {
        "colab": {
          "base_uri": "https://localhost:8080/",
          "height": 73
        },
        "id": "8Em9b8lw_rX-",
        "outputId": "0426ea93-90ee-481b-e231-f5e925f8b430"
      },
      "execution_count": 1,
      "outputs": [
        {
          "output_type": "display_data",
          "data": {
            "text/plain": [
              "<IPython.core.display.HTML object>"
            ],
            "text/html": [
              "\n",
              "     <input type=\"file\" id=\"files-57f71e29-1265-4ff6-be75-5a0011f44b4a\" name=\"files[]\" multiple disabled\n",
              "        style=\"border:none\" />\n",
              "     <output id=\"result-57f71e29-1265-4ff6-be75-5a0011f44b4a\">\n",
              "      Upload widget is only available when the cell has been executed in the\n",
              "      current browser session. Please rerun this cell to enable.\n",
              "      </output>\n",
              "      <script>// Copyright 2017 Google LLC\n",
              "//\n",
              "// Licensed under the Apache License, Version 2.0 (the \"License\");\n",
              "// you may not use this file except in compliance with the License.\n",
              "// You may obtain a copy of the License at\n",
              "//\n",
              "//      http://www.apache.org/licenses/LICENSE-2.0\n",
              "//\n",
              "// Unless required by applicable law or agreed to in writing, software\n",
              "// distributed under the License is distributed on an \"AS IS\" BASIS,\n",
              "// WITHOUT WARRANTIES OR CONDITIONS OF ANY KIND, either express or implied.\n",
              "// See the License for the specific language governing permissions and\n",
              "// limitations under the License.\n",
              "\n",
              "/**\n",
              " * @fileoverview Helpers for google.colab Python module.\n",
              " */\n",
              "(function(scope) {\n",
              "function span(text, styleAttributes = {}) {\n",
              "  const element = document.createElement('span');\n",
              "  element.textContent = text;\n",
              "  for (const key of Object.keys(styleAttributes)) {\n",
              "    element.style[key] = styleAttributes[key];\n",
              "  }\n",
              "  return element;\n",
              "}\n",
              "\n",
              "// Max number of bytes which will be uploaded at a time.\n",
              "const MAX_PAYLOAD_SIZE = 100 * 1024;\n",
              "\n",
              "function _uploadFiles(inputId, outputId) {\n",
              "  const steps = uploadFilesStep(inputId, outputId);\n",
              "  const outputElement = document.getElementById(outputId);\n",
              "  // Cache steps on the outputElement to make it available for the next call\n",
              "  // to uploadFilesContinue from Python.\n",
              "  outputElement.steps = steps;\n",
              "\n",
              "  return _uploadFilesContinue(outputId);\n",
              "}\n",
              "\n",
              "// This is roughly an async generator (not supported in the browser yet),\n",
              "// where there are multiple asynchronous steps and the Python side is going\n",
              "// to poll for completion of each step.\n",
              "// This uses a Promise to block the python side on completion of each step,\n",
              "// then passes the result of the previous step as the input to the next step.\n",
              "function _uploadFilesContinue(outputId) {\n",
              "  const outputElement = document.getElementById(outputId);\n",
              "  const steps = outputElement.steps;\n",
              "\n",
              "  const next = steps.next(outputElement.lastPromiseValue);\n",
              "  return Promise.resolve(next.value.promise).then((value) => {\n",
              "    // Cache the last promise value to make it available to the next\n",
              "    // step of the generator.\n",
              "    outputElement.lastPromiseValue = value;\n",
              "    return next.value.response;\n",
              "  });\n",
              "}\n",
              "\n",
              "/**\n",
              " * Generator function which is called between each async step of the upload\n",
              " * process.\n",
              " * @param {string} inputId Element ID of the input file picker element.\n",
              " * @param {string} outputId Element ID of the output display.\n",
              " * @return {!Iterable<!Object>} Iterable of next steps.\n",
              " */\n",
              "function* uploadFilesStep(inputId, outputId) {\n",
              "  const inputElement = document.getElementById(inputId);\n",
              "  inputElement.disabled = false;\n",
              "\n",
              "  const outputElement = document.getElementById(outputId);\n",
              "  outputElement.innerHTML = '';\n",
              "\n",
              "  const pickedPromise = new Promise((resolve) => {\n",
              "    inputElement.addEventListener('change', (e) => {\n",
              "      resolve(e.target.files);\n",
              "    });\n",
              "  });\n",
              "\n",
              "  const cancel = document.createElement('button');\n",
              "  inputElement.parentElement.appendChild(cancel);\n",
              "  cancel.textContent = 'Cancel upload';\n",
              "  const cancelPromise = new Promise((resolve) => {\n",
              "    cancel.onclick = () => {\n",
              "      resolve(null);\n",
              "    };\n",
              "  });\n",
              "\n",
              "  // Wait for the user to pick the files.\n",
              "  const files = yield {\n",
              "    promise: Promise.race([pickedPromise, cancelPromise]),\n",
              "    response: {\n",
              "      action: 'starting',\n",
              "    }\n",
              "  };\n",
              "\n",
              "  cancel.remove();\n",
              "\n",
              "  // Disable the input element since further picks are not allowed.\n",
              "  inputElement.disabled = true;\n",
              "\n",
              "  if (!files) {\n",
              "    return {\n",
              "      response: {\n",
              "        action: 'complete',\n",
              "      }\n",
              "    };\n",
              "  }\n",
              "\n",
              "  for (const file of files) {\n",
              "    const li = document.createElement('li');\n",
              "    li.append(span(file.name, {fontWeight: 'bold'}));\n",
              "    li.append(span(\n",
              "        `(${file.type || 'n/a'}) - ${file.size} bytes, ` +\n",
              "        `last modified: ${\n",
              "            file.lastModifiedDate ? file.lastModifiedDate.toLocaleDateString() :\n",
              "                                    'n/a'} - `));\n",
              "    const percent = span('0% done');\n",
              "    li.appendChild(percent);\n",
              "\n",
              "    outputElement.appendChild(li);\n",
              "\n",
              "    const fileDataPromise = new Promise((resolve) => {\n",
              "      const reader = new FileReader();\n",
              "      reader.onload = (e) => {\n",
              "        resolve(e.target.result);\n",
              "      };\n",
              "      reader.readAsArrayBuffer(file);\n",
              "    });\n",
              "    // Wait for the data to be ready.\n",
              "    let fileData = yield {\n",
              "      promise: fileDataPromise,\n",
              "      response: {\n",
              "        action: 'continue',\n",
              "      }\n",
              "    };\n",
              "\n",
              "    // Use a chunked sending to avoid message size limits. See b/62115660.\n",
              "    let position = 0;\n",
              "    do {\n",
              "      const length = Math.min(fileData.byteLength - position, MAX_PAYLOAD_SIZE);\n",
              "      const chunk = new Uint8Array(fileData, position, length);\n",
              "      position += length;\n",
              "\n",
              "      const base64 = btoa(String.fromCharCode.apply(null, chunk));\n",
              "      yield {\n",
              "        response: {\n",
              "          action: 'append',\n",
              "          file: file.name,\n",
              "          data: base64,\n",
              "        },\n",
              "      };\n",
              "\n",
              "      let percentDone = fileData.byteLength === 0 ?\n",
              "          100 :\n",
              "          Math.round((position / fileData.byteLength) * 100);\n",
              "      percent.textContent = `${percentDone}% done`;\n",
              "\n",
              "    } while (position < fileData.byteLength);\n",
              "  }\n",
              "\n",
              "  // All done.\n",
              "  yield {\n",
              "    response: {\n",
              "      action: 'complete',\n",
              "    }\n",
              "  };\n",
              "}\n",
              "\n",
              "scope.google = scope.google || {};\n",
              "scope.google.colab = scope.google.colab || {};\n",
              "scope.google.colab._files = {\n",
              "  _uploadFiles,\n",
              "  _uploadFilesContinue,\n",
              "};\n",
              "})(self);\n",
              "</script> "
            ]
          },
          "metadata": {}
        },
        {
          "output_type": "stream",
          "name": "stdout",
          "text": [
            "Saving dataset.json to dataset.json\n"
          ]
        }
      ]
    },
    {
      "cell_type": "code",
      "source": [
        "import json\n",
        "\n",
        "with open('dataset.json', 'r') as file:\n",
        "    data = json.load(file)\n",
        "print(data)"
      ],
      "metadata": {
        "id": "EbK01dSJ_zkN",
        "outputId": "fb9e4907-2e8f-495f-c758-c9602fb2952d",
        "colab": {
          "base_uri": "https://localhost:8080/"
        }
      },
      "execution_count": 3,
      "outputs": [
        {
          "output_type": "stream",
          "name": "stdout",
          "text": [
            "[{'Incorrect': 'මම සෙල්ලම් කරයි', 'Correct': 'මම සෙල්ලම් කරමි'}, {'Incorrect': 'මම පාසල් යමු', 'Correct': 'මම පාසල් යමි'}, {'Incorrect': 'අපි ගෙදර වැඩ කරමි', 'Correct': 'අපි ගෙදර වැඩ කරමු'}, {'Incorrect': 'ඔහු ගමට යති', 'Correct': 'ඔහු ගමට යයි'}, {'Incorrect': 'ඇය ඇඳුම් මසති', 'Correct': 'ඇය ඇඳුම් මසයි'}, {'Incorrect': 'අපි නිවසට ගමන් කරයි', 'Correct': 'අපි නිවසට ගමන් කරමු'}, {'Incorrect': 'මම පාඩම් කරති', 'Correct': 'මම පාඩම් කරමි'}, {'Incorrect': 'අපි ඉගෙන ගමි', 'Correct': 'අපි ඉගෙන ගමු'}, {'Incorrect': 'ඔහු අපට උගන්නති', 'Correct': 'ඔහු අපට උගන්නයි'}, {'Incorrect': 'මම ඔහුගෙන් ඉගෙන ගමු', 'Correct': 'මම ඔහුගෙන් ඉගෙන ගමි'}, {'Incorrect': 'ඇය නිවසට යමු', 'Correct': 'ඇය නිවසට යයි'}, {'Incorrect': 'ඔහු වාහනය එලවති', 'Correct': 'ඔහු වාහනය එලවයි'}, {'Incorrect': 'අපි චිත්\\u200dර අඳිමි', 'Correct': 'අපි චිත්\\u200dර අඳිමු'}, {'Incorrect': 'මම සින්දු කියති', 'Correct': 'මම සින්දු කියමි'}, {'Incorrect': 'මම ඔහුව තල්ලු කරමු', 'Correct': 'මම ඔහුව තල්ලු කරමි'}, {'Incorrect': 'අපි මුහුදේ පීනති', 'Correct': 'අපි මුහුදේ පීනමු'}, {'Incorrect': 'අපි හොඳින් ඉගෙන ගනියි', 'Correct': 'අපි හොඳින් ඉගෙන ගනිමු'}, {'Incorrect': 'ඇය අපට උදව් කරති', 'Correct': 'ඇය අපට උදව් කරයි'}, {'Incorrect': 'ඔහු සෙල්ලම් කරති', 'Correct': 'ඔහු සෙල්ලම් කරයි'}, {'Incorrect': 'ඔහු උදේ ආහාරය ගනිමු', 'Correct': 'ඔහු උදේ ආහාරය ගනියි'}, {'Incorrect': 'ඔහු පිට්ටනියට දුවති', 'Correct': 'ඔහු පිට්ටනියට දුවයි'}, {'Incorrect': 'ඇය මගේ පොත අහුලා ගනිති', 'Correct': 'ඇය මගේ පොත අහුලා ගනියි'}, {'Incorrect': 'මම සින්දු කියමු', 'Correct': 'මම සින්දු කියමි'}, {'Incorrect': 'මම නුවර යමු', 'Correct': 'මම නුවර යමි'}, {'Incorrect': 'මම මුහුදේ පීනති', 'Correct': 'මම මුහුදේ පීනමි'}, {'Incorrect': 'අපි උදේ ආහාරය ගනිති', 'Correct': 'අපි උදේ ආහාරය ගනිමු'}, {'Incorrect': 'මම මගේ සපත්තු සෝදයි', 'Correct': 'මම මගේ සපත්තු සෝදමි'}, {'Incorrect': 'ඇය පො ලීසියට යති', 'Correct': 'ඇය පො ලීසියට යයි'}, {'Incorrect': 'ඇය සින්දු කියමි', 'Correct': 'ඇය සින්දු කියයි'}, {'Incorrect': 'ඇය පාඩම් කරමු', 'Correct': 'ඇය පාඩම් කරයි'}, {'Incorrect': 'අපි බත් කති', 'Correct': 'අපි බත් කමු'}, {'Incorrect': 'අපි පන්සලට යයි', 'Correct': 'අපි පන්සලට යමු'}, {'Incorrect': 'අපි ලියුමක් ලියමි', 'Correct': 'අපි ලියුමක් ලියමු'}, {'Incorrect': 'අපි පාර පුරා ඇවිදිමි', 'Correct': 'අපි පාර පුරා ඇවිදිමු'}, {'Incorrect': 'මම සෙල්ලම් කරමු', 'Correct': 'මම සෙල්ලම් කරමි'}, {'Incorrect': 'මම ඇඳුම් මසති', 'Correct': 'මම ඇඳුම් මසමි'}, {'Incorrect': 'ඇය බත් කමි', 'Correct': 'ඇය බත් කයි'}, {'Incorrect': 'ඇය සෙල්ලම් කරති', 'Correct': 'ඇය සෙල්ලම් කරයි'}, {'Incorrect': 'ඇය ලස්සනට නටමි', 'Correct': 'ඇය ලස්සනට නටයි'}, {'Incorrect': 'ඇය පාර පුරා ඇවිදිති', 'Correct': 'ඇය පාර පුරා ඇවිදියි'}, {'Incorrect': 'ඔහු පන්සලට යමු', 'Correct': 'ඔහු පන්සලට යයි'}, {'Incorrect': 'ඔහු මුහුදේ පීනමි', 'Correct': 'ඔහු මුහුදේ පීනයි'}, {'Incorrect': 'ඔවුහු පාඩම් කරයි', 'Correct': 'ඔවුහු පාඩම් කරති'}, {'Incorrect': 'ඔවුහු බත් කමි', 'Correct': 'ඔවුහු බත් කති'}, {'Incorrect': 'ඔවුහු පන්සලට යමු', 'Correct': 'ඔවුහු පන්සලට යති'}, {'Incorrect': 'ඔවුහු ලියුමක් ලියයි', 'Correct': 'ඔවුහු ලියුමක් ලියති'}, {'Incorrect': 'ඔවුහු සින්දු කියමු', 'Correct': 'ඔවුහු සින්දු කියති'}, {'Incorrect': 'ඔවුහු සෙල්ලම් කරමි', 'Correct': 'ඔවුහු සෙල්ලම් කරති'}, {'Incorrect': 'ඔවුහු මුහුදේ පීනමි', 'Correct': 'ඔවුහු මුහුදේ පීනති'}, {'Incorrect': 'ඔවුහු ඇඳුම් මසමු', 'Correct': 'ඔවුහු ඇඳුම් මසති'}, {'Incorrect': 'ඔවුහු ලස්සනට නටයි', 'Correct': 'ඔවුහු ලස්සනට නටති'}, {'Incorrect': 'ඔවුහු පාර පුරා ඇවිදිමි', 'Correct': 'ඔවුහු පාර පුරා ඇවිදිති'}, {'Incorrect': 'ඔවුහු පාඩම් කරමු', 'Correct': 'ඔවුහු පාඩම් කරති'}, {'Incorrect': 'ඔහු මුහුදේ පීනති', 'Correct': 'ඔහු මුහුදේ පීනයි'}, {'Incorrect': 'ඔහු සෙල්ලම් කරමු', 'Correct': 'ඔහු සෙල්ලම් කරයි'}, {'Incorrect': 'මම ලස්සනට චිත්\\u200dර අඳියි', 'Correct': 'මම ලස්සනට චිත්\\u200dර අඳිමි'}, {'Incorrect': 'මම චිත්\\u200dරපට නරබයි', 'Correct': 'මම චිත්\\u200dරපට නරබමි'}, {'Incorrect': 'ඔහු චිත්\\u200dරපට නරබති', 'Correct': 'ඔහු චිත්\\u200dරපට නරබයි'}, {'Incorrect': 'ඇය චිත්\\u200dරපට නරබමු', 'Correct': 'ඇය චිත්\\u200dරපට නරබයි'}, {'Incorrect': 'අපි චිත්\\u200dරපට නරබයි', 'Correct': 'අපි චිත්\\u200dරපට නරබමු'}, {'Incorrect': 'ඔවුහු චිත්\\u200dරපට නරබයි', 'Correct': 'ඔවුහු චිත්\\u200dරපට නරබති'}]\n"
          ]
        }
      ]
    },
    {
      "cell_type": "code",
      "source": [
        "# Step 1: Preprocess Sentences\n",
        "def preprocess_sentence(sentence):\n",
        "    \"\"\"Clean, tokenize, and split the sentence.\"\"\"\n",
        "    sentence = re.sub(r\"[^\\w\\s]\", \"\", sentence)  # Remove unwanted characters\n",
        "    tokens = nltk.word_tokenize(sentence)       # Tokenize into words\n",
        "    return tokens"
      ],
      "metadata": {
        "id": "_O6kOfRCJwLx"
      },
      "execution_count": null,
      "outputs": []
    },
    {
      "cell_type": "code",
      "source": [
        "# Step 2: Feature Extraction\n",
        "def extract_features(sentence):\n",
        "    \"\"\"Extract features for the machine learning model.\"\"\"\n",
        "    tokens = preprocess_sentence(sentence)\n",
        "    features = \" \".join(tokens)  # Convert tokens back to a string for vectorization\n",
        "    return features"
      ],
      "metadata": {
        "id": "WIycQMBvJw7u"
      },
      "execution_count": null,
      "outputs": []
    },
    {
      "cell_type": "code",
      "source": [
        "# Prepare dataset\n",
        "X = [extract_features(item[\"sentence\"]) for item in data]\n",
        "y = [1 if item[\"is_correct\"] else 0 for item in data]"
      ],
      "metadata": {
        "id": "kISpkAgMJzqi"
      },
      "execution_count": null,
      "outputs": []
    },
    {
      "cell_type": "code",
      "source": [
        "# Vectorize text data\n",
        "vectorizer = CountVectorizer()\n",
        "X_vect = vectorizer.fit_transform(X)"
      ],
      "metadata": {
        "id": "Oz09iBn0J2KJ"
      },
      "execution_count": null,
      "outputs": []
    },
    {
      "cell_type": "code",
      "source": [
        "# Train-Test Split\n",
        "X_train, X_test, y_train, y_test = train_test_split(X_vect, y, test_size=0.2, random_state=42)\n",
        "\n",
        "# Step 3: Train Decision Tree Classifier\n",
        "clf = DecisionTreeClassifier()\n",
        "clf.fit(X_train, y_train)"
      ],
      "metadata": {
        "colab": {
          "base_uri": "https://localhost:8080/",
          "height": 80
        },
        "id": "kV5BDS8jJ_3d",
        "outputId": "bd4a25b4-6334-40b5-cdc7-9dff7aaf8926"
      },
      "execution_count": null,
      "outputs": [
        {
          "output_type": "execute_result",
          "data": {
            "text/plain": [
              "DecisionTreeClassifier()"
            ],
            "text/html": [
              "<style>#sk-container-id-2 {\n",
              "  /* Definition of color scheme common for light and dark mode */\n",
              "  --sklearn-color-text: #000;\n",
              "  --sklearn-color-text-muted: #666;\n",
              "  --sklearn-color-line: gray;\n",
              "  /* Definition of color scheme for unfitted estimators */\n",
              "  --sklearn-color-unfitted-level-0: #fff5e6;\n",
              "  --sklearn-color-unfitted-level-1: #f6e4d2;\n",
              "  --sklearn-color-unfitted-level-2: #ffe0b3;\n",
              "  --sklearn-color-unfitted-level-3: chocolate;\n",
              "  /* Definition of color scheme for fitted estimators */\n",
              "  --sklearn-color-fitted-level-0: #f0f8ff;\n",
              "  --sklearn-color-fitted-level-1: #d4ebff;\n",
              "  --sklearn-color-fitted-level-2: #b3dbfd;\n",
              "  --sklearn-color-fitted-level-3: cornflowerblue;\n",
              "\n",
              "  /* Specific color for light theme */\n",
              "  --sklearn-color-text-on-default-background: var(--sg-text-color, var(--theme-code-foreground, var(--jp-content-font-color1, black)));\n",
              "  --sklearn-color-background: var(--sg-background-color, var(--theme-background, var(--jp-layout-color0, white)));\n",
              "  --sklearn-color-border-box: var(--sg-text-color, var(--theme-code-foreground, var(--jp-content-font-color1, black)));\n",
              "  --sklearn-color-icon: #696969;\n",
              "\n",
              "  @media (prefers-color-scheme: dark) {\n",
              "    /* Redefinition of color scheme for dark theme */\n",
              "    --sklearn-color-text-on-default-background: var(--sg-text-color, var(--theme-code-foreground, var(--jp-content-font-color1, white)));\n",
              "    --sklearn-color-background: var(--sg-background-color, var(--theme-background, var(--jp-layout-color0, #111)));\n",
              "    --sklearn-color-border-box: var(--sg-text-color, var(--theme-code-foreground, var(--jp-content-font-color1, white)));\n",
              "    --sklearn-color-icon: #878787;\n",
              "  }\n",
              "}\n",
              "\n",
              "#sk-container-id-2 {\n",
              "  color: var(--sklearn-color-text);\n",
              "}\n",
              "\n",
              "#sk-container-id-2 pre {\n",
              "  padding: 0;\n",
              "}\n",
              "\n",
              "#sk-container-id-2 input.sk-hidden--visually {\n",
              "  border: 0;\n",
              "  clip: rect(1px 1px 1px 1px);\n",
              "  clip: rect(1px, 1px, 1px, 1px);\n",
              "  height: 1px;\n",
              "  margin: -1px;\n",
              "  overflow: hidden;\n",
              "  padding: 0;\n",
              "  position: absolute;\n",
              "  width: 1px;\n",
              "}\n",
              "\n",
              "#sk-container-id-2 div.sk-dashed-wrapped {\n",
              "  border: 1px dashed var(--sklearn-color-line);\n",
              "  margin: 0 0.4em 0.5em 0.4em;\n",
              "  box-sizing: border-box;\n",
              "  padding-bottom: 0.4em;\n",
              "  background-color: var(--sklearn-color-background);\n",
              "}\n",
              "\n",
              "#sk-container-id-2 div.sk-container {\n",
              "  /* jupyter's `normalize.less` sets `[hidden] { display: none; }`\n",
              "     but bootstrap.min.css set `[hidden] { display: none !important; }`\n",
              "     so we also need the `!important` here to be able to override the\n",
              "     default hidden behavior on the sphinx rendered scikit-learn.org.\n",
              "     See: https://github.com/scikit-learn/scikit-learn/issues/21755 */\n",
              "  display: inline-block !important;\n",
              "  position: relative;\n",
              "}\n",
              "\n",
              "#sk-container-id-2 div.sk-text-repr-fallback {\n",
              "  display: none;\n",
              "}\n",
              "\n",
              "div.sk-parallel-item,\n",
              "div.sk-serial,\n",
              "div.sk-item {\n",
              "  /* draw centered vertical line to link estimators */\n",
              "  background-image: linear-gradient(var(--sklearn-color-text-on-default-background), var(--sklearn-color-text-on-default-background));\n",
              "  background-size: 2px 100%;\n",
              "  background-repeat: no-repeat;\n",
              "  background-position: center center;\n",
              "}\n",
              "\n",
              "/* Parallel-specific style estimator block */\n",
              "\n",
              "#sk-container-id-2 div.sk-parallel-item::after {\n",
              "  content: \"\";\n",
              "  width: 100%;\n",
              "  border-bottom: 2px solid var(--sklearn-color-text-on-default-background);\n",
              "  flex-grow: 1;\n",
              "}\n",
              "\n",
              "#sk-container-id-2 div.sk-parallel {\n",
              "  display: flex;\n",
              "  align-items: stretch;\n",
              "  justify-content: center;\n",
              "  background-color: var(--sklearn-color-background);\n",
              "  position: relative;\n",
              "}\n",
              "\n",
              "#sk-container-id-2 div.sk-parallel-item {\n",
              "  display: flex;\n",
              "  flex-direction: column;\n",
              "}\n",
              "\n",
              "#sk-container-id-2 div.sk-parallel-item:first-child::after {\n",
              "  align-self: flex-end;\n",
              "  width: 50%;\n",
              "}\n",
              "\n",
              "#sk-container-id-2 div.sk-parallel-item:last-child::after {\n",
              "  align-self: flex-start;\n",
              "  width: 50%;\n",
              "}\n",
              "\n",
              "#sk-container-id-2 div.sk-parallel-item:only-child::after {\n",
              "  width: 0;\n",
              "}\n",
              "\n",
              "/* Serial-specific style estimator block */\n",
              "\n",
              "#sk-container-id-2 div.sk-serial {\n",
              "  display: flex;\n",
              "  flex-direction: column;\n",
              "  align-items: center;\n",
              "  background-color: var(--sklearn-color-background);\n",
              "  padding-right: 1em;\n",
              "  padding-left: 1em;\n",
              "}\n",
              "\n",
              "\n",
              "/* Toggleable style: style used for estimator/Pipeline/ColumnTransformer box that is\n",
              "clickable and can be expanded/collapsed.\n",
              "- Pipeline and ColumnTransformer use this feature and define the default style\n",
              "- Estimators will overwrite some part of the style using the `sk-estimator` class\n",
              "*/\n",
              "\n",
              "/* Pipeline and ColumnTransformer style (default) */\n",
              "\n",
              "#sk-container-id-2 div.sk-toggleable {\n",
              "  /* Default theme specific background. It is overwritten whether we have a\n",
              "  specific estimator or a Pipeline/ColumnTransformer */\n",
              "  background-color: var(--sklearn-color-background);\n",
              "}\n",
              "\n",
              "/* Toggleable label */\n",
              "#sk-container-id-2 label.sk-toggleable__label {\n",
              "  cursor: pointer;\n",
              "  display: flex;\n",
              "  width: 100%;\n",
              "  margin-bottom: 0;\n",
              "  padding: 0.5em;\n",
              "  box-sizing: border-box;\n",
              "  text-align: center;\n",
              "  align-items: start;\n",
              "  justify-content: space-between;\n",
              "  gap: 0.5em;\n",
              "}\n",
              "\n",
              "#sk-container-id-2 label.sk-toggleable__label .caption {\n",
              "  font-size: 0.6rem;\n",
              "  font-weight: lighter;\n",
              "  color: var(--sklearn-color-text-muted);\n",
              "}\n",
              "\n",
              "#sk-container-id-2 label.sk-toggleable__label-arrow:before {\n",
              "  /* Arrow on the left of the label */\n",
              "  content: \"▸\";\n",
              "  float: left;\n",
              "  margin-right: 0.25em;\n",
              "  color: var(--sklearn-color-icon);\n",
              "}\n",
              "\n",
              "#sk-container-id-2 label.sk-toggleable__label-arrow:hover:before {\n",
              "  color: var(--sklearn-color-text);\n",
              "}\n",
              "\n",
              "/* Toggleable content - dropdown */\n",
              "\n",
              "#sk-container-id-2 div.sk-toggleable__content {\n",
              "  max-height: 0;\n",
              "  max-width: 0;\n",
              "  overflow: hidden;\n",
              "  text-align: left;\n",
              "  /* unfitted */\n",
              "  background-color: var(--sklearn-color-unfitted-level-0);\n",
              "}\n",
              "\n",
              "#sk-container-id-2 div.sk-toggleable__content.fitted {\n",
              "  /* fitted */\n",
              "  background-color: var(--sklearn-color-fitted-level-0);\n",
              "}\n",
              "\n",
              "#sk-container-id-2 div.sk-toggleable__content pre {\n",
              "  margin: 0.2em;\n",
              "  border-radius: 0.25em;\n",
              "  color: var(--sklearn-color-text);\n",
              "  /* unfitted */\n",
              "  background-color: var(--sklearn-color-unfitted-level-0);\n",
              "}\n",
              "\n",
              "#sk-container-id-2 div.sk-toggleable__content.fitted pre {\n",
              "  /* unfitted */\n",
              "  background-color: var(--sklearn-color-fitted-level-0);\n",
              "}\n",
              "\n",
              "#sk-container-id-2 input.sk-toggleable__control:checked~div.sk-toggleable__content {\n",
              "  /* Expand drop-down */\n",
              "  max-height: 200px;\n",
              "  max-width: 100%;\n",
              "  overflow: auto;\n",
              "}\n",
              "\n",
              "#sk-container-id-2 input.sk-toggleable__control:checked~label.sk-toggleable__label-arrow:before {\n",
              "  content: \"▾\";\n",
              "}\n",
              "\n",
              "/* Pipeline/ColumnTransformer-specific style */\n",
              "\n",
              "#sk-container-id-2 div.sk-label input.sk-toggleable__control:checked~label.sk-toggleable__label {\n",
              "  color: var(--sklearn-color-text);\n",
              "  background-color: var(--sklearn-color-unfitted-level-2);\n",
              "}\n",
              "\n",
              "#sk-container-id-2 div.sk-label.fitted input.sk-toggleable__control:checked~label.sk-toggleable__label {\n",
              "  background-color: var(--sklearn-color-fitted-level-2);\n",
              "}\n",
              "\n",
              "/* Estimator-specific style */\n",
              "\n",
              "/* Colorize estimator box */\n",
              "#sk-container-id-2 div.sk-estimator input.sk-toggleable__control:checked~label.sk-toggleable__label {\n",
              "  /* unfitted */\n",
              "  background-color: var(--sklearn-color-unfitted-level-2);\n",
              "}\n",
              "\n",
              "#sk-container-id-2 div.sk-estimator.fitted input.sk-toggleable__control:checked~label.sk-toggleable__label {\n",
              "  /* fitted */\n",
              "  background-color: var(--sklearn-color-fitted-level-2);\n",
              "}\n",
              "\n",
              "#sk-container-id-2 div.sk-label label.sk-toggleable__label,\n",
              "#sk-container-id-2 div.sk-label label {\n",
              "  /* The background is the default theme color */\n",
              "  color: var(--sklearn-color-text-on-default-background);\n",
              "}\n",
              "\n",
              "/* On hover, darken the color of the background */\n",
              "#sk-container-id-2 div.sk-label:hover label.sk-toggleable__label {\n",
              "  color: var(--sklearn-color-text);\n",
              "  background-color: var(--sklearn-color-unfitted-level-2);\n",
              "}\n",
              "\n",
              "/* Label box, darken color on hover, fitted */\n",
              "#sk-container-id-2 div.sk-label.fitted:hover label.sk-toggleable__label.fitted {\n",
              "  color: var(--sklearn-color-text);\n",
              "  background-color: var(--sklearn-color-fitted-level-2);\n",
              "}\n",
              "\n",
              "/* Estimator label */\n",
              "\n",
              "#sk-container-id-2 div.sk-label label {\n",
              "  font-family: monospace;\n",
              "  font-weight: bold;\n",
              "  display: inline-block;\n",
              "  line-height: 1.2em;\n",
              "}\n",
              "\n",
              "#sk-container-id-2 div.sk-label-container {\n",
              "  text-align: center;\n",
              "}\n",
              "\n",
              "/* Estimator-specific */\n",
              "#sk-container-id-2 div.sk-estimator {\n",
              "  font-family: monospace;\n",
              "  border: 1px dotted var(--sklearn-color-border-box);\n",
              "  border-radius: 0.25em;\n",
              "  box-sizing: border-box;\n",
              "  margin-bottom: 0.5em;\n",
              "  /* unfitted */\n",
              "  background-color: var(--sklearn-color-unfitted-level-0);\n",
              "}\n",
              "\n",
              "#sk-container-id-2 div.sk-estimator.fitted {\n",
              "  /* fitted */\n",
              "  background-color: var(--sklearn-color-fitted-level-0);\n",
              "}\n",
              "\n",
              "/* on hover */\n",
              "#sk-container-id-2 div.sk-estimator:hover {\n",
              "  /* unfitted */\n",
              "  background-color: var(--sklearn-color-unfitted-level-2);\n",
              "}\n",
              "\n",
              "#sk-container-id-2 div.sk-estimator.fitted:hover {\n",
              "  /* fitted */\n",
              "  background-color: var(--sklearn-color-fitted-level-2);\n",
              "}\n",
              "\n",
              "/* Specification for estimator info (e.g. \"i\" and \"?\") */\n",
              "\n",
              "/* Common style for \"i\" and \"?\" */\n",
              "\n",
              ".sk-estimator-doc-link,\n",
              "a:link.sk-estimator-doc-link,\n",
              "a:visited.sk-estimator-doc-link {\n",
              "  float: right;\n",
              "  font-size: smaller;\n",
              "  line-height: 1em;\n",
              "  font-family: monospace;\n",
              "  background-color: var(--sklearn-color-background);\n",
              "  border-radius: 1em;\n",
              "  height: 1em;\n",
              "  width: 1em;\n",
              "  text-decoration: none !important;\n",
              "  margin-left: 0.5em;\n",
              "  text-align: center;\n",
              "  /* unfitted */\n",
              "  border: var(--sklearn-color-unfitted-level-1) 1pt solid;\n",
              "  color: var(--sklearn-color-unfitted-level-1);\n",
              "}\n",
              "\n",
              ".sk-estimator-doc-link.fitted,\n",
              "a:link.sk-estimator-doc-link.fitted,\n",
              "a:visited.sk-estimator-doc-link.fitted {\n",
              "  /* fitted */\n",
              "  border: var(--sklearn-color-fitted-level-1) 1pt solid;\n",
              "  color: var(--sklearn-color-fitted-level-1);\n",
              "}\n",
              "\n",
              "/* On hover */\n",
              "div.sk-estimator:hover .sk-estimator-doc-link:hover,\n",
              ".sk-estimator-doc-link:hover,\n",
              "div.sk-label-container:hover .sk-estimator-doc-link:hover,\n",
              ".sk-estimator-doc-link:hover {\n",
              "  /* unfitted */\n",
              "  background-color: var(--sklearn-color-unfitted-level-3);\n",
              "  color: var(--sklearn-color-background);\n",
              "  text-decoration: none;\n",
              "}\n",
              "\n",
              "div.sk-estimator.fitted:hover .sk-estimator-doc-link.fitted:hover,\n",
              ".sk-estimator-doc-link.fitted:hover,\n",
              "div.sk-label-container:hover .sk-estimator-doc-link.fitted:hover,\n",
              ".sk-estimator-doc-link.fitted:hover {\n",
              "  /* fitted */\n",
              "  background-color: var(--sklearn-color-fitted-level-3);\n",
              "  color: var(--sklearn-color-background);\n",
              "  text-decoration: none;\n",
              "}\n",
              "\n",
              "/* Span, style for the box shown on hovering the info icon */\n",
              ".sk-estimator-doc-link span {\n",
              "  display: none;\n",
              "  z-index: 9999;\n",
              "  position: relative;\n",
              "  font-weight: normal;\n",
              "  right: .2ex;\n",
              "  padding: .5ex;\n",
              "  margin: .5ex;\n",
              "  width: min-content;\n",
              "  min-width: 20ex;\n",
              "  max-width: 50ex;\n",
              "  color: var(--sklearn-color-text);\n",
              "  box-shadow: 2pt 2pt 4pt #999;\n",
              "  /* unfitted */\n",
              "  background: var(--sklearn-color-unfitted-level-0);\n",
              "  border: .5pt solid var(--sklearn-color-unfitted-level-3);\n",
              "}\n",
              "\n",
              ".sk-estimator-doc-link.fitted span {\n",
              "  /* fitted */\n",
              "  background: var(--sklearn-color-fitted-level-0);\n",
              "  border: var(--sklearn-color-fitted-level-3);\n",
              "}\n",
              "\n",
              ".sk-estimator-doc-link:hover span {\n",
              "  display: block;\n",
              "}\n",
              "\n",
              "/* \"?\"-specific style due to the `<a>` HTML tag */\n",
              "\n",
              "#sk-container-id-2 a.estimator_doc_link {\n",
              "  float: right;\n",
              "  font-size: 1rem;\n",
              "  line-height: 1em;\n",
              "  font-family: monospace;\n",
              "  background-color: var(--sklearn-color-background);\n",
              "  border-radius: 1rem;\n",
              "  height: 1rem;\n",
              "  width: 1rem;\n",
              "  text-decoration: none;\n",
              "  /* unfitted */\n",
              "  color: var(--sklearn-color-unfitted-level-1);\n",
              "  border: var(--sklearn-color-unfitted-level-1) 1pt solid;\n",
              "}\n",
              "\n",
              "#sk-container-id-2 a.estimator_doc_link.fitted {\n",
              "  /* fitted */\n",
              "  border: var(--sklearn-color-fitted-level-1) 1pt solid;\n",
              "  color: var(--sklearn-color-fitted-level-1);\n",
              "}\n",
              "\n",
              "/* On hover */\n",
              "#sk-container-id-2 a.estimator_doc_link:hover {\n",
              "  /* unfitted */\n",
              "  background-color: var(--sklearn-color-unfitted-level-3);\n",
              "  color: var(--sklearn-color-background);\n",
              "  text-decoration: none;\n",
              "}\n",
              "\n",
              "#sk-container-id-2 a.estimator_doc_link.fitted:hover {\n",
              "  /* fitted */\n",
              "  background-color: var(--sklearn-color-fitted-level-3);\n",
              "}\n",
              "</style><div id=\"sk-container-id-2\" class=\"sk-top-container\"><div class=\"sk-text-repr-fallback\"><pre>DecisionTreeClassifier()</pre><b>In a Jupyter environment, please rerun this cell to show the HTML representation or trust the notebook. <br />On GitHub, the HTML representation is unable to render, please try loading this page with nbviewer.org.</b></div><div class=\"sk-container\" hidden><div class=\"sk-item\"><div class=\"sk-estimator fitted sk-toggleable\"><input class=\"sk-toggleable__control sk-hidden--visually\" id=\"sk-estimator-id-2\" type=\"checkbox\" checked><label for=\"sk-estimator-id-2\" class=\"sk-toggleable__label fitted sk-toggleable__label-arrow\"><div><div>DecisionTreeClassifier</div></div><div><a class=\"sk-estimator-doc-link fitted\" rel=\"noreferrer\" target=\"_blank\" href=\"https://scikit-learn.org/1.6/modules/generated/sklearn.tree.DecisionTreeClassifier.html\">?<span>Documentation for DecisionTreeClassifier</span></a><span class=\"sk-estimator-doc-link fitted\">i<span>Fitted</span></span></div></label><div class=\"sk-toggleable__content fitted\"><pre>DecisionTreeClassifier()</pre></div> </div></div></div></div>"
            ]
          },
          "metadata": {},
          "execution_count": 28
        }
      ]
    },
    {
      "cell_type": "code",
      "source": [
        "# Evaluate the Model\n",
        "y_pred = clf.predict(X_test)\n",
        "print(\"Model Accuracy:\", accuracy_score(y_test, y_pred))"
      ],
      "metadata": {
        "colab": {
          "base_uri": "https://localhost:8080/"
        },
        "id": "wM-DIbU2KiyM",
        "outputId": "dd151a81-31a3-4259-e49e-323cec89d521"
      },
      "execution_count": null,
      "outputs": [
        {
          "output_type": "stream",
          "name": "stdout",
          "text": [
            "Model Accuracy: 0.3333333333333333\n"
          ]
        }
      ]
    },
    {
      "cell_type": "code",
      "source": [
        "y_pred = clf.predict(X_train)\n",
        "print(\"Model Accuracy:\", accuracy_score(y_train, y_pred))"
      ],
      "metadata": {
        "colab": {
          "base_uri": "https://localhost:8080/"
        },
        "id": "Z7kYyujjg44_",
        "outputId": "7e09ac66-abe2-48bc-ff24-35502aa114f8"
      },
      "execution_count": null,
      "outputs": [
        {
          "output_type": "stream",
          "name": "stdout",
          "text": [
            "Model Accuracy: 1.0\n"
          ]
        }
      ]
    },
    {
      "cell_type": "code",
      "source": [
        "# Step 4: Grammar Error Detection and Correction\n",
        "def suggest_corrections(sentence, dataset):\n",
        "    \"\"\"Provide grammatical suggestions for incorrect sentences.\"\"\"\n",
        "    # Check if the sentence is grammatically correct\n",
        "    if clf.predict(vectorizer.transform([extract_features(sentence)]))[0] == 1:\n",
        "        print(\"Sentence is Grammatically Correct!\")\n",
        "        return {\"present\": sentence, \"future\": sentence, \"past\": sentence} # Return a dictionary when the sentence is correct\n",
        "    else:\n",
        "        print(\"Grammar Error Detected!\")\n",
        "        # Find the sentence in the dataset\n",
        "        for item in dataset:\n",
        "            if item[\"sentence\"] == sentence:\n",
        "                suggestions = item[\"suggestions\"]\n",
        "                return suggestions\n",
        "        return {\"error\": \"Suggestions not available for this sentence.\"}"
      ],
      "metadata": {
        "id": "X-oBN9_lKqTU"
      },
      "execution_count": null,
      "outputs": []
    },
    {
      "cell_type": "code",
      "source": [
        "# Step 5: Test the Correction System\n",
        "test_sentence = \"කමල් සමග මම පාඩම් කරමි\"\n",
        "corrections = suggest_corrections(test_sentence, data)\n",
        "\n",
        "print(\"Original Sentence:\", test_sentence)\n",
        "print(\"Corrections:\")\n",
        "print(\"Present Tense:\", corrections.get(\"present\", \"No suggestion\"))\n",
        "print(\"Future Tense:\", corrections.get(\"future\", \"No suggestion\"))\n",
        "print(\"Past Tense:\", corrections.get(\"past\", \"No suggestion\"))"
      ],
      "metadata": {
        "colab": {
          "base_uri": "https://localhost:8080/"
        },
        "id": "XsJznK90Kuam",
        "outputId": "49ac5594-584c-46b1-893e-9a62199a7861"
      },
      "execution_count": null,
      "outputs": [
        {
          "output_type": "stream",
          "name": "stdout",
          "text": [
            "Sentence is Grammatically Correct!\n",
            "Original Sentence: කමල් සමග මම පාඩම් කරමි\n",
            "Corrections:\n",
            "Present Tense: කමල් සමග මම පාඩම් කරමි\n",
            "Future Tense: කමල් සමග මම පාඩම් කරමි\n",
            "Past Tense: කමල් සමග මම පාඩම් කරමි\n"
          ]
        }
      ]
    },
    {
      "cell_type": "code",
      "source": [
        "# Step 5: Test the Correction System\n",
        "test_sentence = \"\"\n",
        "corrections = suggest_corrections(test_sentence, data)\n",
        "\n",
        "print(\"Original Sentence:\", test_sentence)\n",
        "print(\"Corrections:\")\n",
        "print(\"Present Tense:\", corrections.get(\"present\", \"No suggestion\"))\n",
        "print(\"Future Tense:\", corrections.get(\"future\", \"No suggestion\"))\n",
        "print(\"Past Tense:\", corrections.get(\"past\", \"No suggestion\"))"
      ],
      "metadata": {
        "colab": {
          "base_uri": "https://localhost:8080/"
        },
        "id": "U7wk-mJfaqrC",
        "outputId": "0fabf777-f081-48b4-c59d-ec0b7c22a31f"
      },
      "execution_count": null,
      "outputs": [
        {
          "output_type": "stream",
          "name": "stdout",
          "text": [
            "Sentence is Grammatically Correct!\n",
            "Original Sentence: ඇය විසිහතර පැයේ ම කාලසටහනකට අනුව වැඩ කරමු\n",
            "Corrections:\n",
            "Present Tense: ඇය විසිහතර පැයේ ම කාලසටහනකට අනුව වැඩ කරමු\n",
            "Future Tense: ඇය විසිහතර පැයේ ම කාලසටහනකට අනුව වැඩ කරමු\n",
            "Past Tense: ඇය විසිහතර පැයේ ම කාලසටහනකට අනුව වැඩ කරමු\n"
          ]
        }
      ]
    },
    {
      "cell_type": "code",
      "source": [
        "test_sentence = \"ප්‍රාථමික අධ්‍යාපනය අවසන් කළ කුඩා එඩ්මන්ඩ් පීරිස් කොළඹ සාන්ත ජෝසප් විද්‍යාලයට ඇතුළත්ව එහි දීප්තිමත් ශිෂ්‍යයකු වශයෙන් උසස් ලෙස සමත්කම් දක්වමින් ද්විතීයක අධ්‍යාපනය නිම කළේමු\"\n",
        "corrections = suggest_corrections(test_sentence, data)\n",
        "\n",
        "print(\"Original Sentence:\", test_sentence)\n",
        "print(\"Corrections:\")\n",
        "print(\"Present Tense:\", corrections.get(\"present\", \"No suggestion\"))\n",
        "print(\"Future Tense:\", corrections.get(\"future\", \"No suggestion\"))\n",
        "print(\"Past Tense:\", corrections.get(\"past\", \"No suggestion\"))"
      ],
      "metadata": {
        "id": "2Uz2X6pWgWbW",
        "colab": {
          "base_uri": "https://localhost:8080/"
        },
        "outputId": "952f4f71-eded-4f21-f27f-33bebd915d98"
      },
      "execution_count": null,
      "outputs": [
        {
          "output_type": "stream",
          "name": "stdout",
          "text": [
            "Grammar Error Detected!\n",
            "Original Sentence: ප්‍රාථමික අධ්‍යාපනය අවසන් කළ කුඩා එඩ්මන්ඩ් පීරිස් කොළඹ සාන්ත ජෝසප් විද්‍යාලයට ඇතුළත්ව එහි දීප්තිමත් ශිෂ්‍යයකු වශයෙන් උසස් ලෙස සමත්කම් දක්වමින් ද්විතීයක අධ්‍යාපනය නිම කළේමු\n",
            "Corrections:\n",
            "Present Tense: ප්‍රාථමික අධ්‍යාපනය අවසන් කළ කුඩා එඩ්මන්ඩ් පීරිස් කොළඹ සාන්ත ජෝසප් විද්‍යාලයට ඇතුළත්ව එහි දීප්තිමත් ශිෂ්‍යයකු වශයෙන් උසස් ලෙස සමත්කම් දක්වමින් ද්විතීයක අධ්‍යාපනය නිම කරයි\n",
            "Future Tense: ප්‍රාථමික අධ්‍යාපනය අවසන් කළ කුඩා එඩ්මන්ඩ් පීරිස් කොළඹ සාන්ත ජෝසප් විද්‍යාලයට ඇතුළත්ව එහි දීප්තිමත් ශිෂ්‍යයකු වශයෙන් උසස් ලෙස සමත්කම් දක්වමින් ද්විතීයක අධ්‍යාපනය නිම කරන්නේ ය\n",
            "Past Tense: ප්‍රාථමික අධ්‍යාපනය අවසන් කළ කුඩා එඩ්මන්ඩ් පීරිස් කොළඹ සාන්ත ජෝසප් විද්‍යාලයට ඇතුළත්ව එහි දීප්තිමත් ශිෂ්‍යයකු වශයෙන් උසස් ලෙස සමත්කම් දක්වමින් ද්විතීයක අධ්‍යාපනය නිම කළේ ය. \n"
          ]
        }
      ]
    },
    {
      "cell_type": "code",
      "source": [
        "test_sentence =\"ඔහු පසු කලෙක සිය නිර්මාණ ජිවිතයට එම අත් දැකීම් පිටිවහලක් කර ගත්තෝය\"\n",
        "corrections = suggest_corrections(test_sentence, data)\n",
        "\n",
        "print(\"Original Sentence:\", test_sentence)\n",
        "print(\"Corrections:\")\n",
        "print(\"Present Tense:\", corrections.get(\"present\", \"No suggestion\"))\n",
        "print(\"Future Tense:\", corrections.get(\"future\", \"No suggestion\"))\n",
        "print(\"Past Tense:\", corrections.get(\"past\", \"No suggestion\"))"
      ],
      "metadata": {
        "colab": {
          "base_uri": "https://localhost:8080/"
        },
        "id": "vGK8va-DGcBl",
        "outputId": "795d7970-e991-4bbd-edf8-6a9ddf246d51"
      },
      "execution_count": null,
      "outputs": [
        {
          "output_type": "stream",
          "name": "stdout",
          "text": [
            "Grammar Error Detected!\n",
            "Original Sentence: ඔහු පසු කලෙක සිය නිර්මාණ ජිවිතයට එම අත් දැකීම් පිටිවහලක් කර ගත්තෝය\n",
            "Corrections:\n",
            "Present Tense: No suggestion\n",
            "Future Tense: No suggestion\n",
            "Past Tense: No suggestion\n"
          ]
        }
      ]
    },
    {
      "cell_type": "code",
      "source": [
        "test_sentence = \"ඔවුහු කතාබහ කිරීම ප්‍රතික්ෂේප කරති\"\n",
        "corrections = suggest_corrections(test_sentence, data)\n",
        "\n",
        "print(\"Original Sentence:\", test_sentence)\n",
        "print(\"Corrections:\")\n",
        "print(\"Present Tense:\", corrections.get(\"present\", \"No suggestion\"))\n",
        "print(\"Future Tense:\", corrections.get(\"future\", \"No suggestion\"))\n",
        "print(\"Past Tense:\", corrections.get(\"past\", \"No suggestion\"))"
      ],
      "metadata": {
        "colab": {
          "base_uri": "https://localhost:8080/"
        },
        "id": "gDpZBNkzHLs_",
        "outputId": "25436565-c04b-4cc3-a7a5-fe44200ad809"
      },
      "execution_count": null,
      "outputs": [
        {
          "output_type": "stream",
          "name": "stdout",
          "text": [
            "Sentence is Grammatically Correct!\n",
            "Original Sentence: ඔවුහු කතාබහ කිරීම ප්‍රතික්ෂේප කරති\n",
            "Corrections:\n",
            "Present Tense: ඔවුහු කතාබහ කිරීම ප්‍රතික්ෂේප කරති\n",
            "Future Tense: ඔවුහු කතාබහ කිරීම ප්‍රතික්ෂේප කරති\n",
            "Past Tense: ඔවුහු කතාබහ කිරීම ප්‍රතික්ෂේප කරති\n"
          ]
        }
      ]
    },
    {
      "cell_type": "code",
      "source": [
        "test_sentence = \"ශිෂ්‍යයෝ ඔහුගෙන් ඉගෙන ගමු\"\n",
        "corrections = suggest_corrections(test_sentence, data)\n",
        "\n",
        "print(\"Original Sentence:\", test_sentence)\n",
        "print(\"Corrections:\")\n",
        "print(\"Present Tense:\", corrections.get(\"present\", \"No suggestion\"))\n",
        "print(\"Future Tense:\", corrections.get(\"future\", \"No suggestion\"))\n",
        "print(\"Past Tense:\", corrections.get(\"past\", \"No suggestion\"))"
      ],
      "metadata": {
        "colab": {
          "base_uri": "https://localhost:8080/"
        },
        "id": "IrSAU0TzHRH9",
        "outputId": "ff0b272f-a10e-41dc-d8c7-43af6654b2d3"
      },
      "execution_count": null,
      "outputs": [
        {
          "output_type": "stream",
          "name": "stdout",
          "text": [
            "Grammar Error Detected!\n",
            "Original Sentence: ශිෂ්‍යයෝ ඔහුගෙන් ඉගෙන ගමු\n",
            "Corrections:\n",
            "Present Tense: ශිෂ්‍යයෝ ඔහුගෙන් ඉගෙන ගනිති\n",
            "Future Tense: ශිෂ්‍යයෝ ඔහුගෙන් ඉගෙන ගන්නෝය්\n",
            "Past Tense: ශිෂ්‍යයෝ ඔහුගෙන් ඉගෙන ගත්තෝය\n"
          ]
        }
      ]
    },
    {
      "cell_type": "code",
      "source": [
        "test_sentence = \"සංගීත විශාරදයෝ ගීත ගයති\"\n",
        "corrections = suggest_corrections(test_sentence, data)\n",
        "\n",
        "print(\"Original Sentence:\", test_sentence)\n",
        "print(\"Corrections:\")\n",
        "print(\"Present Tense:\", corrections.get(\"present\", \"No suggestion\"))\n",
        "print(\"Future Tense:\", corrections.get(\"future\", \"No suggestion\"))\n",
        "print(\"Past Tense:\", corrections.get(\"past\", \"No suggestion\"))"
      ],
      "metadata": {
        "colab": {
          "base_uri": "https://localhost:8080/"
        },
        "id": "dVoV25g7HSLZ",
        "outputId": "6773c7b5-7a21-490d-ac53-baf557d0a760"
      },
      "execution_count": null,
      "outputs": [
        {
          "output_type": "stream",
          "name": "stdout",
          "text": [
            "Sentence is Grammatically Correct!\n",
            "Original Sentence: සංගීත විශාරදයෝ ගීත ගයති\n",
            "Corrections:\n",
            "Present Tense: සංගීත විශාරදයෝ ගීත ගයති\n",
            "Future Tense: සංගීත විශාරදයෝ ගීත ගයති\n",
            "Past Tense: සංගීත විශාරදයෝ ගීත ගයති\n"
          ]
        }
      ]
    },
    {
      "cell_type": "code",
      "source": [],
      "metadata": {
        "id": "AAb1dZcfZVSq"
      },
      "execution_count": null,
      "outputs": []
    }
  ]
}