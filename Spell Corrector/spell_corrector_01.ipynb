{
  "cells": [
    {
      "cell_type": "code",
      "execution_count": 1,
      "metadata": {
        "colab": {
          "base_uri": "https://localhost:8080/"
        },
        "id": "tMQUtBchl8b9",
        "outputId": "0d4fc440-f48b-4768-eb9d-a244ec7a07cb"
      },
      "outputs": [
        {
          "name": "stdout",
          "output_type": "stream",
          "text": [
            "Collecting python-docx\n",
            "  Downloading python_docx-1.1.2-py3-none-any.whl.metadata (2.0 kB)\n",
            "Requirement already satisfied: lxml>=3.1.0 in /usr/local/lib/python3.10/dist-packages (from python-docx) (5.3.0)\n",
            "Requirement already satisfied: typing-extensions>=4.9.0 in /usr/local/lib/python3.10/dist-packages (from python-docx) (4.12.2)\n",
            "Downloading python_docx-1.1.2-py3-none-any.whl (244 kB)\n",
            "\u001b[?25l   \u001b[90m━━━━━━━━━━━━━━━━━━━━━━━━━━━━━━━━━━━━━━━━\u001b[0m \u001b[32m0.0/244.3 kB\u001b[0m \u001b[31m?\u001b[0m eta \u001b[36m-:--:--\u001b[0m\r\u001b[2K   \u001b[91m━━━━━━━━━━━━━━━━━━━━━━━━━━━━━━━━━━━━━━\u001b[0m\u001b[91m╸\u001b[0m\u001b[90m━\u001b[0m \u001b[32m235.5/244.3 kB\u001b[0m \u001b[31m8.9 MB/s\u001b[0m eta \u001b[36m0:00:01\u001b[0m\r\u001b[2K   \u001b[90m━━━━━━━━━━━━━━━━━━━━━━━━━━━━━━━━━━━━━━━━\u001b[0m \u001b[32m244.3/244.3 kB\u001b[0m \u001b[31m5.3 MB/s\u001b[0m eta \u001b[36m0:00:00\u001b[0m\n",
            "\u001b[?25hInstalling collected packages: python-docx\n",
            "Successfully installed python-docx-1.1.2\n"
          ]
        }
      ],
      "source": [
        "!pip install python-docx"
      ]
    },
    {
      "cell_type": "code",
      "execution_count": 4,
      "metadata": {
        "id": "G0vIHcoiEBrH"
      },
      "outputs": [],
      "source": [
        "import difflib\n",
        "from docx import Document\n",
        "from google.colab import files"
      ]
    },
    {
      "cell_type": "code",
      "execution_count": 5,
      "metadata": {
        "colab": {
          "base_uri": "https://localhost:8080/",
          "height": 88
        },
        "id": "NWXgJqXpEy2E",
        "outputId": "aa16abb0-f349-497c-9f6b-b3d2bb8d1c74"
      },
      "outputs": [
        {
          "name": "stdout",
          "output_type": "stream",
          "text": [
            "Please upload your Sinhala dataset Word file (e.g., sinhala_dataset.docx)\n"
          ]
        },
        {
          "data": {
            "text/html": [
              "\n",
              "     <input type=\"file\" id=\"files-d11193d3-b03f-4763-9148-9cdc9e1329d7\" name=\"files[]\" multiple disabled\n",
              "        style=\"border:none\" />\n",
              "     <output id=\"result-d11193d3-b03f-4763-9148-9cdc9e1329d7\">\n",
              "      Upload widget is only available when the cell has been executed in the\n",
              "      current browser session. Please rerun this cell to enable.\n",
              "      </output>\n",
              "      <script>// Copyright 2017 Google LLC\n",
              "//\n",
              "// Licensed under the Apache License, Version 2.0 (the \"License\");\n",
              "// you may not use this file except in compliance with the License.\n",
              "// You may obtain a copy of the License at\n",
              "//\n",
              "//      http://www.apache.org/licenses/LICENSE-2.0\n",
              "//\n",
              "// Unless required by applicable law or agreed to in writing, software\n",
              "// distributed under the License is distributed on an \"AS IS\" BASIS,\n",
              "// WITHOUT WARRANTIES OR CONDITIONS OF ANY KIND, either express or implied.\n",
              "// See the License for the specific language governing permissions and\n",
              "// limitations under the License.\n",
              "\n",
              "/**\n",
              " * @fileoverview Helpers for google.colab Python module.\n",
              " */\n",
              "(function(scope) {\n",
              "function span(text, styleAttributes = {}) {\n",
              "  const element = document.createElement('span');\n",
              "  element.textContent = text;\n",
              "  for (const key of Object.keys(styleAttributes)) {\n",
              "    element.style[key] = styleAttributes[key];\n",
              "  }\n",
              "  return element;\n",
              "}\n",
              "\n",
              "// Max number of bytes which will be uploaded at a time.\n",
              "const MAX_PAYLOAD_SIZE = 100 * 1024;\n",
              "\n",
              "function _uploadFiles(inputId, outputId) {\n",
              "  const steps = uploadFilesStep(inputId, outputId);\n",
              "  const outputElement = document.getElementById(outputId);\n",
              "  // Cache steps on the outputElement to make it available for the next call\n",
              "  // to uploadFilesContinue from Python.\n",
              "  outputElement.steps = steps;\n",
              "\n",
              "  return _uploadFilesContinue(outputId);\n",
              "}\n",
              "\n",
              "// This is roughly an async generator (not supported in the browser yet),\n",
              "// where there are multiple asynchronous steps and the Python side is going\n",
              "// to poll for completion of each step.\n",
              "// This uses a Promise to block the python side on completion of each step,\n",
              "// then passes the result of the previous step as the input to the next step.\n",
              "function _uploadFilesContinue(outputId) {\n",
              "  const outputElement = document.getElementById(outputId);\n",
              "  const steps = outputElement.steps;\n",
              "\n",
              "  const next = steps.next(outputElement.lastPromiseValue);\n",
              "  return Promise.resolve(next.value.promise).then((value) => {\n",
              "    // Cache the last promise value to make it available to the next\n",
              "    // step of the generator.\n",
              "    outputElement.lastPromiseValue = value;\n",
              "    return next.value.response;\n",
              "  });\n",
              "}\n",
              "\n",
              "/**\n",
              " * Generator function which is called between each async step of the upload\n",
              " * process.\n",
              " * @param {string} inputId Element ID of the input file picker element.\n",
              " * @param {string} outputId Element ID of the output display.\n",
              " * @return {!Iterable<!Object>} Iterable of next steps.\n",
              " */\n",
              "function* uploadFilesStep(inputId, outputId) {\n",
              "  const inputElement = document.getElementById(inputId);\n",
              "  inputElement.disabled = false;\n",
              "\n",
              "  const outputElement = document.getElementById(outputId);\n",
              "  outputElement.innerHTML = '';\n",
              "\n",
              "  const pickedPromise = new Promise((resolve) => {\n",
              "    inputElement.addEventListener('change', (e) => {\n",
              "      resolve(e.target.files);\n",
              "    });\n",
              "  });\n",
              "\n",
              "  const cancel = document.createElement('button');\n",
              "  inputElement.parentElement.appendChild(cancel);\n",
              "  cancel.textContent = 'Cancel upload';\n",
              "  const cancelPromise = new Promise((resolve) => {\n",
              "    cancel.onclick = () => {\n",
              "      resolve(null);\n",
              "    };\n",
              "  });\n",
              "\n",
              "  // Wait for the user to pick the files.\n",
              "  const files = yield {\n",
              "    promise: Promise.race([pickedPromise, cancelPromise]),\n",
              "    response: {\n",
              "      action: 'starting',\n",
              "    }\n",
              "  };\n",
              "\n",
              "  cancel.remove();\n",
              "\n",
              "  // Disable the input element since further picks are not allowed.\n",
              "  inputElement.disabled = true;\n",
              "\n",
              "  if (!files) {\n",
              "    return {\n",
              "      response: {\n",
              "        action: 'complete',\n",
              "      }\n",
              "    };\n",
              "  }\n",
              "\n",
              "  for (const file of files) {\n",
              "    const li = document.createElement('li');\n",
              "    li.append(span(file.name, {fontWeight: 'bold'}));\n",
              "    li.append(span(\n",
              "        `(${file.type || 'n/a'}) - ${file.size} bytes, ` +\n",
              "        `last modified: ${\n",
              "            file.lastModifiedDate ? file.lastModifiedDate.toLocaleDateString() :\n",
              "                                    'n/a'} - `));\n",
              "    const percent = span('0% done');\n",
              "    li.appendChild(percent);\n",
              "\n",
              "    outputElement.appendChild(li);\n",
              "\n",
              "    const fileDataPromise = new Promise((resolve) => {\n",
              "      const reader = new FileReader();\n",
              "      reader.onload = (e) => {\n",
              "        resolve(e.target.result);\n",
              "      };\n",
              "      reader.readAsArrayBuffer(file);\n",
              "    });\n",
              "    // Wait for the data to be ready.\n",
              "    let fileData = yield {\n",
              "      promise: fileDataPromise,\n",
              "      response: {\n",
              "        action: 'continue',\n",
              "      }\n",
              "    };\n",
              "\n",
              "    // Use a chunked sending to avoid message size limits. See b/62115660.\n",
              "    let position = 0;\n",
              "    do {\n",
              "      const length = Math.min(fileData.byteLength - position, MAX_PAYLOAD_SIZE);\n",
              "      const chunk = new Uint8Array(fileData, position, length);\n",
              "      position += length;\n",
              "\n",
              "      const base64 = btoa(String.fromCharCode.apply(null, chunk));\n",
              "      yield {\n",
              "        response: {\n",
              "          action: 'append',\n",
              "          file: file.name,\n",
              "          data: base64,\n",
              "        },\n",
              "      };\n",
              "\n",
              "      let percentDone = fileData.byteLength === 0 ?\n",
              "          100 :\n",
              "          Math.round((position / fileData.byteLength) * 100);\n",
              "      percent.textContent = `${percentDone}% done`;\n",
              "\n",
              "    } while (position < fileData.byteLength);\n",
              "  }\n",
              "\n",
              "  // All done.\n",
              "  yield {\n",
              "    response: {\n",
              "      action: 'complete',\n",
              "    }\n",
              "  };\n",
              "}\n",
              "\n",
              "scope.google = scope.google || {};\n",
              "scope.google.colab = scope.google.colab || {};\n",
              "scope.google.colab._files = {\n",
              "  _uploadFiles,\n",
              "  _uploadFilesContinue,\n",
              "};\n",
              "})(self);\n",
              "</script> "
            ],
            "text/plain": [
              "<IPython.core.display.HTML object>"
            ]
          },
          "metadata": {},
          "output_type": "display_data"
        },
        {
          "name": "stdout",
          "output_type": "stream",
          "text": [
            "Saving dataset.docx to dataset (1).docx\n"
          ]
        }
      ],
      "source": [
        "# Step 1: Upload Word file\n",
        "print(\"Please upload your Sinhala dataset Word file (e.g., sinhala_dataset.docx)\")\n",
        "uploaded = files.upload()\n",
        "word_file_path = list(uploaded.keys())[0]"
      ]
    },
    {
      "cell_type": "code",
      "execution_count": 22,
      "metadata": {
        "id": "l083en71E3iD"
      },
      "outputs": [],
      "source": [
        "# Step 2: Extract words from Word file\n",
        "def extract_words_from_docx(file_path):\n",
        "    document = Document(file_path)\n",
        "    words = []\n",
        "    for paragraph in document.paragraphs:\n",
        "        words.extend(paragraph.text.split())  # Split paragraph text into words\n",
        "    words = list(set(word.strip() for word in words if word.strip()))  # Remove duplicates\n",
        "    return words"
      ]
    },
    {
      "cell_type": "code",
      "execution_count": 23,
      "metadata": {
        "id": "P8FQ7JTFHER-"
      },
      "outputs": [],
      "source": [
        "# Step 3: Spell checker\n",
        "def spell_corrector(word, dictionary):\n",
        "    word = word.strip()\n",
        "    if word in dictionary:\n",
        "        return word\n",
        "    else:\n",
        "        matches = difflib.get_close_matches(word, dictionary, n=3, cutoff=0.8)\n",
        "        if matches:\n",
        "            return matches[0]  # Return the closest match\n",
        "        else:\n",
        "            return word  # Return original word if no match is found"
      ]
    },
    {
      "cell_type": "code",
      "execution_count": 24,
      "metadata": {
        "id": "GMsr8_0aHIyX"
      },
      "outputs": [],
      "source": [
        "# Step 4: Paragraph-level correction\n",
        "def correct_paragraph(paragraph, dictionary):\n",
        "    words = paragraph.split()\n",
        "    corrected_words = []\n",
        "    for word in words:\n",
        "        corrected_word = spell_corrector(word, dictionary)\n",
        "        corrected_words.append(corrected_word)  # Always append corrected word (or original if no match)\n",
        "    corrected_paragraph = \" \".join(corrected_words)\n",
        "    return corrected_paragraph"
      ]
    },
    {
      "cell_type": "code",
      "execution_count": 38,
      "metadata": {
        "id": "rcMfkJip5Oqp"
      },
      "outputs": [],
      "source": [
        "# Step 4: Paragraph-level correction\n",
        "def correct_paragraph(paragraph, dictionary):\n",
        "    words = paragraph.split()\n",
        "    corrected_words = []\n",
        "    total_corrected = 0  # Counter for correct matches\n",
        "    total_words = len(words)  # Total words in the input paragraph\n",
        "\n",
        "    for word in words:\n",
        "        corrected_word = spell_corrector(word, dictionary)\n",
        "        corrected_words.append(corrected_word)  # Always append corrected word (or original if no match)\n",
        "\n",
        "        # Check if the corrected word matches the ground truth\n",
        "        if corrected_word == word:  # If corrected word matches the original word\n",
        "            total_corrected += 1\n",
        "\n",
        "    # Calculate accuracy as percentage of correct words\n",
        "    accuracy = (total_corrected / total_words) * 100\n",
        "    return \" \".join(corrected_words), accuracy"
      ]
    },
    {
      "cell_type": "code",
      "execution_count": 25,
      "metadata": {
        "colab": {
          "base_uri": "https://localhost:8080/"
        },
        "id": "-bbe1cSMHMhP",
        "outputId": "d85479a4-9adc-42dc-ba34-0aee92f79069"
      },
      "outputs": [
        {
          "name": "stdout",
          "output_type": "stream",
          "text": [
            "Sinhala Dictionary Loaded. Example words: ['විශාල', 'එහෙන්', 'දෙස', 'කරන්න්නෝය', 'ගසක්', 'මාමා', 'මූල', 'වේවා', 'අසල්වැසියා', 'මතු'] ...\n"
          ]
        }
      ],
      "source": [
        "# Main logic\n",
        "sinhala_dict = extract_words_from_docx(word_file_path)\n",
        "print(\"Sinhala Dictionary Loaded. Example words:\", sinhala_dict[:10], \"...\")"
      ]
    },
    {
      "cell_type": "code",
      "execution_count": 9,
      "metadata": {
        "colab": {
          "base_uri": "https://localhost:8080/"
        },
        "id": "OzBGCgzZFlFl",
        "outputId": "dfeff35b-a2ce-478d-d2fc-ebd8ce8c1452"
      },
      "outputs": [
        {
          "name": "stdout",
          "output_type": "stream",
          "text": [
            "Enter a paragraph for spell correction:\n",
            "පුවත්පත් කවි පිටු ගණනවක් සංස්කණයෙහි යෙදෙමින් ආධුනික කවීන්ට ගුරු උපදශ හා ධර්යය සපයන රත්න ශ්‍රී රූපවාහිනී හා ගුවන් විදුල වැඩසටහන් සම්පාකයකු ලෙස ද පරිචයක් ලැබුවේ ය\n",
            "\n",
            "Corrected Paragraph:\n",
            "පුවත්පත් කවි පිටු ගණනාවක් සංස්කරණයෙහි යෙදෙමින් ආධුනික කවීන්ට ගුරු උපදේශ හා ධෛර්යය සපයන රත්න ශ්‍රී රූපවාහිනී හා ගුවන් විදුලි වැඩසටහන් සම්පාදකයකු ලෙස ද පරිචයක් ලැබුවේ ය\n"
          ]
        }
      ],
      "source": [
        "# Input a paragraph from the user\n",
        "paragraph = input(\"Enter a paragraph for spell correction:\\n\")\n",
        "\n",
        "# Correct the paragraph\n",
        "corrected_paragraph = correct_paragraph(paragraph, sinhala_dict)\n",
        "\n",
        "# Display the corrected paragraph\n",
        "print(\"\\nCorrected Paragraph:\")\n",
        "print(corrected_paragraph)"
      ]
    },
    {
      "cell_type": "code",
      "execution_count": 14,
      "metadata": {
        "colab": {
          "base_uri": "https://localhost:8080/"
        },
        "id": "F2nbVxriHkff",
        "outputId": "7e6eef9d-c22f-477f-c8cc-a93e35f64c2c"
      },
      "outputs": [
        {
          "name": "stdout",
          "output_type": "stream",
          "text": [
            "Enter a paragraph for spell correction:\n",
            "සීතල උඳුප් මහේ සාමයේ කුමරන්ගේ උපත පිළිබඳ පණිවුඩය රැගෙන මඳ නල දසත හමා යද්දී උදා වූ අසිරිමත් නත්තලෙහි ප්‍රීතයෙන් මුළු ලව ම නැහවී ගියේය.\n",
            "\n",
            "Corrected Paragraph:\n",
            "සීතල උඳුවප් මහේ සාමයේ කුමරුන්ගේ උපත පිළිබඳ පණිවුඩය රැගෙන මඳ නල දසත හමා යද්දී උදා වූ අසිරිමත් නත්තලෙහි ප්‍රීතියෙන් මුළු ලොව ම නැහැවී ගියේය\n"
          ]
        }
      ],
      "source": [
        "# Input a paragraph from the user\n",
        "paragraph = input(\"Enter a paragraph for spell correction:\\n\")\n",
        "\n",
        "# Correct the paragraph\n",
        "corrected_paragraph = correct_paragraph(paragraph, sinhala_dict)\n",
        "\n",
        "# Display the corrected paragraph\n",
        "print(\"\\nCorrected Paragraph:\")\n",
        "print(corrected_paragraph)"
      ]
    },
    {
      "cell_type": "code",
      "execution_count": 15,
      "metadata": {
        "colab": {
          "base_uri": "https://localhost:8080/"
        },
        "id": "WaIARRPlIMOr",
        "outputId": "7772ef4f-9ef0-47ae-efb0-074483725bd3"
      },
      "outputs": [
        {
          "name": "stdout",
          "output_type": "stream",
          "text": [
            "Enter a paragraph for spell correction:\n",
            "ප්‍රථමික අධ්‍යාපනය අවසන් කළ කුඩා එඩ්න්ඩ් පීරිස් කළඹ සාන්ත ජෝසප් විද්‍යායට ඇතුළත්ව එහි දීප්තිමත් ශිෂ්‍යකු වශයෙන් උසස් ලෙස සමත්කම් දක්වමින් ද්විතීයක අධ්‍යපනය නිම කරයි.\n",
            "\n",
            "Corrected Paragraph:\n",
            "ප්‍රාථමික අධ්‍යාපනය අවසන් කළ කුඩා එඩ්මන්ඩ් පීරිස් කොළඹ සාන්ත ජෝසප් විද්‍යාලයට ඇතුළත්ව එහි දීප්තිමත් ශිෂ්‍යයකු වශයෙන් උසස් ලෙස සමත්කම් දක්වමින් ද්විතීයක අධ්‍යාපනය නිම කරයි.\n"
          ]
        }
      ],
      "source": [
        "# Input a paragraph from the user\n",
        "paragraph = input(\"Enter a paragraph for spell correction:\\n\")\n",
        "\n",
        "# Correct the paragraph\n",
        "corrected_paragraph = correct_paragraph(paragraph, sinhala_dict)\n",
        "\n",
        "# Display the corrected paragraph\n",
        "print(\"\\nCorrected Paragraph:\")\n",
        "print(corrected_paragraph)"
      ]
    },
    {
      "cell_type": "code",
      "execution_count": 26,
      "metadata": {
        "colab": {
          "base_uri": "https://localhost:8080/"
        },
        "id": "1slu4NfBNN1G",
        "outputId": "af6f21aa-b760-4270-9ebe-8338be69bfd5"
      },
      "outputs": [
        {
          "name": "stdout",
          "output_type": "stream",
          "text": [
            "Enter a paragraph for spell correction:\n",
            "සියනෑ කෝරළයේ කිරිඳිවැල නගයට ආසන්න රදාවන ගම් පියසෙහි දී මහගමසේකර මහත උපන්නේය. ඔහු පස කලෙක සිය නිර්මණ ජිවතයට එම අත්දැකීම් පිටිවහලක් කර ගත්තේය.\n",
            "\n",
            "Corrected Paragraph:\n",
            "සියනෑ කෝරළයේ කිරිඳිවැල නගරයට ආසන්න රදාවාන ගම් පියසෙහි දී මහගමසේකර මහතා උපන්නේය ඔහු පසු කලෙක සිය නිර්මාණ ජිවිතයට එම දැකීම් පිටිවහලක් කර ගත්තේය\n"
          ]
        }
      ],
      "source": [
        "# Input a paragraph from the user\n",
        "paragraph = input(\"Enter a paragraph for spell correction:\\n\")\n",
        "\n",
        "# Correct the paragraph\n",
        "corrected_paragraph = correct_paragraph(paragraph, sinhala_dict)\n",
        "\n",
        "# Display the corrected paragraph\n",
        "print(\"\\nCorrected Paragraph:\")\n",
        "print(corrected_paragraph)"
      ]
    },
    {
      "cell_type": "code",
      "execution_count": 28,
      "metadata": {
        "colab": {
          "base_uri": "https://localhost:8080/"
        },
        "id": "aTwxGQJaPFTm",
        "outputId": "999a9320-392a-4493-998a-10da6c51d515"
      },
      "outputs": [
        {
          "name": "stdout",
          "output_type": "stream",
          "text": [
            "Enter a paragraph for spell correction:\n",
            "මිනිසුන් දෙදනෙකු මටර් රථ ක්‍රීඩවක යෙදෙයි. .තරඟකරුවෙක් අනකා හඹා යයි.  මිනිසෙක් ධානය වන මොටර් රයක එල්ල  සිටිය.\n",
            "\n",
            "Corrected Paragraph:\n",
            "මිනිසුන් දෙදෙනෙකු මෝටර් රථ ක්‍රීඩාවක යෙදෙයි. තරඟකරුවෙක් අනෙකා හඹා යයි. මිනිසෙක් ධාවනය වන මොටර් රථයක එල්ල සිටියි.\n"
          ]
        }
      ],
      "source": [
        "# Input a paragraph from the user\n",
        "paragraph = input(\"Enter a paragraph for spell correction:\\n\")\n",
        "\n",
        "# Correct the paragraph\n",
        "corrected_paragraph = correct_paragraph(paragraph, sinhala_dict)\n",
        "\n",
        "# Display the corrected paragraph\n",
        "print(\"\\nCorrected Paragraph:\")\n",
        "print(corrected_paragraph)"
      ]
    }
  ],
  "metadata": {
    "colab": {
      "provenance": []
    },
    "kernelspec": {
      "display_name": "Python 3",
      "name": "python3"
    },
    "language_info": {
      "name": "python"
    }
  },
  "nbformat": 4,
  "nbformat_minor": 0
}
