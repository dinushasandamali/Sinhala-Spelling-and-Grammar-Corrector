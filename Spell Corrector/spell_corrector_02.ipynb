{
  "nbformat": 4,
  "nbformat_minor": 0,
  "metadata": {
    "colab": {
      "provenance": []
    },
    "kernelspec": {
      "name": "python3",
      "display_name": "Python 3"
    },
    "language_info": {
      "name": "python"
    }
  },
  "cells": [
    {
      "cell_type": "code",
      "source": [
        "!pip install symspellpy fuzzywuzzy pyspellchecker"
      ],
      "metadata": {
        "colab": {
          "base_uri": "https://localhost:8080/"
        },
        "id": "ZM2LqJxfViem",
        "outputId": "c1924036-ee74-4955-c883-de051fc441a3"
      },
      "execution_count": 1,
      "outputs": [
        {
          "output_type": "stream",
          "name": "stdout",
          "text": [
            "Collecting symspellpy\n",
            "  Downloading symspellpy-6.7.8-py3-none-any.whl.metadata (3.9 kB)\n",
            "Collecting fuzzywuzzy\n",
            "  Downloading fuzzywuzzy-0.18.0-py2.py3-none-any.whl.metadata (4.9 kB)\n",
            "Collecting pyspellchecker\n",
            "  Downloading pyspellchecker-0.8.2-py3-none-any.whl.metadata (9.4 kB)\n",
            "Collecting editdistpy>=0.1.3 (from symspellpy)\n",
            "  Downloading editdistpy-0.1.5-cp310-cp310-manylinux_2_5_x86_64.manylinux1_x86_64.manylinux_2_17_x86_64.manylinux2014_x86_64.whl.metadata (7.9 kB)\n",
            "Downloading symspellpy-6.7.8-py3-none-any.whl (2.6 MB)\n",
            "\u001b[2K   \u001b[90m━━━━━━━━━━━━━━━━━━━━━━━━━━━━━━━━━━━━━━━━\u001b[0m \u001b[32m2.6/2.6 MB\u001b[0m \u001b[31m23.3 MB/s\u001b[0m eta \u001b[36m0:00:00\u001b[0m\n",
            "\u001b[?25hDownloading fuzzywuzzy-0.18.0-py2.py3-none-any.whl (18 kB)\n",
            "Downloading pyspellchecker-0.8.2-py3-none-any.whl (7.1 MB)\n",
            "\u001b[2K   \u001b[90m━━━━━━━━━━━━━━━━━━━━━━━━━━━━━━━━━━━━━━━━\u001b[0m \u001b[32m7.1/7.1 MB\u001b[0m \u001b[31m96.9 MB/s\u001b[0m eta \u001b[36m0:00:00\u001b[0m\n",
            "\u001b[?25hDownloading editdistpy-0.1.5-cp310-cp310-manylinux_2_5_x86_64.manylinux1_x86_64.manylinux_2_17_x86_64.manylinux2014_x86_64.whl (144 kB)\n",
            "\u001b[2K   \u001b[90m━━━━━━━━━━━━━━━━━━━━━━━━━━━━━━━━━━━━━━━━\u001b[0m \u001b[32m144.1/144.1 kB\u001b[0m \u001b[31m16.2 MB/s\u001b[0m eta \u001b[36m0:00:00\u001b[0m\n",
            "\u001b[?25hInstalling collected packages: fuzzywuzzy, pyspellchecker, editdistpy, symspellpy\n",
            "Successfully installed editdistpy-0.1.5 fuzzywuzzy-0.18.0 pyspellchecker-0.8.2 symspellpy-6.7.8\n"
          ]
        }
      ]
    },
    {
      "cell_type": "code",
      "source": [
        "from spellchecker import SpellChecker\n",
        "from fuzzywuzzy import process, fuzz\n",
        "import os"
      ],
      "metadata": {
        "colab": {
          "base_uri": "https://localhost:8080/"
        },
        "id": "H4v5jZ9fwJXG",
        "outputId": "607c8ed7-8013-4a1a-dcfb-892928944ee1"
      },
      "execution_count": 2,
      "outputs": [
        {
          "output_type": "stream",
          "name": "stderr",
          "text": [
            "/usr/local/lib/python3.10/dist-packages/fuzzywuzzy/fuzz.py:11: UserWarning: Using slow pure-python SequenceMatcher. Install python-Levenshtein to remove this warning\n",
            "  warnings.warn('Using slow pure-python SequenceMatcher. Install python-Levenshtein to remove this warning')\n"
          ]
        }
      ]
    },
    {
      "cell_type": "code",
      "source": [
        "# Load Word List (Correct Words Only)\n",
        "def load_word_list(word_list_path):\n",
        "    dictionary = []\n",
        "    try:\n",
        "        with open(word_list_path, \"r\", encoding=\"utf-8\") as file:\n",
        "            for line in file:\n",
        "                dictionary.append(line.strip())\n",
        "    except FileNotFoundError:\n",
        "        print(f\"Word list file '{word_list_path}' not found.\")\n",
        "        exit()\n",
        "    return dictionary"
      ],
      "metadata": {
        "id": "k7tVUUyNwgJv"
      },
      "execution_count": 3,
      "outputs": []
    },
    {
      "cell_type": "markdown",
      "source": [
        "#PySpellChecker"
      ],
      "metadata": {
        "id": "OI6QY9NswQHX"
      }
    },
    {
      "cell_type": "code",
      "source": [
        "# Initialize PySpellChecker\n",
        "def initialize_pyspellchecker():\n",
        "    spell = SpellChecker(language=None)\n",
        "    custom_word_list = \"word_list.txt\"\n",
        "    if os.path.exists(custom_word_list):\n",
        "        with open(custom_word_list, \"r\", encoding=\"utf-8\") as file:\n",
        "            words = file.read().splitlines()\n",
        "            spell.word_frequency.load_words(words)\n",
        "    return spell\n",
        "\n",
        "# Correct Word Using PySpellChecker\n",
        "def correct_word_pyspellchecker(spell, word):\n",
        "    return spell.correction(word) or word"
      ],
      "metadata": {
        "id": "KrFy_zLqwNjH"
      },
      "execution_count": 4,
      "outputs": []
    },
    {
      "cell_type": "markdown",
      "source": [
        "#FuzzyWuzzy"
      ],
      "metadata": {
        "id": "vP-R4negwZ-y"
      }
    },
    {
      "cell_type": "code",
      "source": [
        "# Correct Word Using FuzzyWuzzy\n",
        "def correct_word_fuzzywuzzy(word, dictionary):\n",
        "    best_match = process.extractOne(word, dictionary, scorer=fuzz.ratio)\n",
        "    return best_match[0] if best_match and best_match[1] > 80 else word"
      ],
      "metadata": {
        "id": "kjD3L-qQwXxA"
      },
      "execution_count": 5,
      "outputs": []
    },
    {
      "cell_type": "code",
      "source": [
        "# Evaluate Accuracy of Each Method\n",
        "def evaluate_accuracy(correct_word, ground_truth):\n",
        "    return 1 if correct_word == ground_truth else 0\n",
        "\n",
        "# Correct Word and Evaluate Accuracy\n",
        "def correct_word_and_evaluate(word, ground_truth, spell, dictionary):\n",
        "    corrected_pyspell = correct_word_pyspellchecker(spell, word)\n",
        "    accuracy_pyspell = evaluate_accuracy(corrected_pyspell, ground_truth)\n",
        "\n",
        "    corrected_fuzzywuzzy = correct_word_fuzzywuzzy(word, dictionary)\n",
        "    accuracy_fuzzywuzzy = evaluate_accuracy(corrected_fuzzywuzzy, ground_truth)\n",
        "\n",
        "    return corrected_pyspell, corrected_fuzzywuzzy, accuracy_pyspell, accuracy_fuzzywuzzy"
      ],
      "metadata": {
        "id": "PfHOyTAvwl8s"
      },
      "execution_count": 6,
      "outputs": []
    },
    {
      "cell_type": "code",
      "source": [
        "# Correct and Evaluate Paragraph\n",
        "def correct_paragraph(paragraph, spell, dictionary):\n",
        "    words = paragraph.split()  # Split paragraph into words\n",
        "    corrected_paragraph_pyspell = []\n",
        "    corrected_paragraph_fuzzywuzzy = []\n",
        "    total_accuracy = {\"pyspell\": 0, \"fuzzywuzzy\": 0}\n",
        "    total_words = len(words)\n",
        "\n",
        "    for word in words:\n",
        "        # Find the closest match from the word list (ground truth)\n",
        "        best_match = process.extractOne(word, dictionary, scorer=fuzz.ratio)\n",
        "        if best_match and best_match[1] > 80:\n",
        "            ground_truth = best_match[0]\n",
        "        else:\n",
        "            ground_truth = word  # If no close match, use the original word as ground truth\n",
        "\n",
        "        corrected_pyspell, corrected_fuzzywuzzy, accuracy_pyspell, accuracy_fuzzywuzzy = correct_word_and_evaluate(\n",
        "            word, ground_truth, spell, dictionary)\n",
        "\n",
        "        corrected_paragraph_pyspell.append(corrected_pyspell)\n",
        "        corrected_paragraph_fuzzywuzzy.append(corrected_fuzzywuzzy)\n",
        "\n",
        "        total_accuracy[\"pyspell\"] += accuracy_pyspell\n",
        "        total_accuracy[\"fuzzywuzzy\"] += accuracy_fuzzywuzzy\n",
        "\n",
        "    return corrected_paragraph_pyspell, corrected_paragraph_fuzzywuzzy, total_accuracy, total_words\n",
        "\n",
        "# Main Function\n",
        "if __name__ == \"__main__\":\n",
        "    # Initialize PySpellChecker\n",
        "    pyspell = initialize_pyspellchecker()\n",
        "\n",
        "    # Load dictionary from word list (correct words only)\n",
        "    word_list_path = \"word_list.txt\"\n",
        "    dictionary = load_word_list(word_list_path)\n",
        "\n",
        "    # Ensure word list is not empty\n",
        "    if not dictionary:\n",
        "        print(\"No valid words found in the word list. Please check the file format.\")\n",
        "        exit()\n"
      ],
      "metadata": {
        "id": "o2XjgfSurOU_"
      },
      "execution_count": 7,
      "outputs": []
    },
    {
      "cell_type": "code",
      "source": [
        "    # Input a paragraph\n",
        "    paragraph_to_correct = input(\"Enter a paragraph: \").strip()\n",
        "\n",
        "    # Correct the paragraph and evaluate accuracy\n",
        "    corrected_paragraph_pyspell, corrected_paragraph_fuzzywuzzy, total_accuracy, total_words = correct_paragraph(\n",
        "        paragraph_to_correct, pyspell, dictionary)\n",
        "\n",
        "    # Print the corrected paragraphs\n",
        "    print(\"\\nCorrected Paragraph (PySpellChecker):\")\n",
        "    print(\" \".join(corrected_paragraph_pyspell))\n",
        "\n",
        "    print(\"\\nCorrected Paragraph (FuzzyWuzzy):\")\n",
        "    print(\" \".join(corrected_paragraph_fuzzywuzzy))\n",
        "\n",
        "    # Final Accuracy Calculation\n",
        "    print(\"\\nFinal Accuracy:\")\n",
        "    print(f\"PySpellChecker: {total_accuracy['pyspell'] / total_words * 100:.2f}%\")\n",
        "    print(f\"FuzzyWuzzy: {total_accuracy['fuzzywuzzy'] / total_words * 100:.2f}%\")"
      ],
      "metadata": {
        "colab": {
          "base_uri": "https://localhost:8080/"
        },
        "id": "UfW_GHIC7d4n",
        "outputId": "94c3aaea-e090-456d-8f62-4ba5d38cb4ba"
      },
      "execution_count": null,
      "outputs": [
        {
          "output_type": "stream",
          "name": "stdout",
          "text": [
            "Enter a paragraph: පුවත්පත් කවි පිටු ගණනවක් සංස්කණයෙහි යෙදෙමින් ආධුනික කවීන්ට ගුරු උපදශ හා ධර්යය සපයන රත්න ශ්‍රී රූපවාහිනී හා ගුවන් විදුල වැඩසටහන් සම්පාකයකු ලෙස ද පරිචයක් ලැබුවේ ය.\n",
            "\n",
            "Corrected Paragraph (PySpellChecker):\n",
            "පුවත්පත් කවි පිටු ගණනාවක් සංස්කරණයෙහි යෙදෙමින් ආධුනික කවීන්ට ගුරු උපදේශ හා ධෛර්යය සපයන රත්න ශ්‍රී රූපවාහිනී හා ගුවන් විදුලි වැඩසටහන් සම්පාදකයකු ලෙස ද පරිචයක් ලැබුවේ ය\n",
            "\n",
            "Corrected Paragraph (FuzzyWuzzy):\n",
            "පුවත්පත් කවි පිටු ගණනාවක් සංස්කරණයෙහි යෙදෙමින් ආධුනික කවීන්ට ගුරු උපදේශ හා ධෛර්යය සපයන රත්න ශ්‍රී රූපවාහිනී හා ගුවන් විදුලි වැඩසටහන් සම්පාදකයකු ලෙස ද පරිචයක් ලැබුවේ ය\n",
            "\n",
            "Final Accuracy:\n",
            "PySpellChecker: 100.00%\n",
            "FuzzyWuzzy: 100.00%\n"
          ]
        }
      ]
    },
    {
      "cell_type": "code",
      "source": [
        "    # Input a paragraph\n",
        "    paragraph_to_correct = input(\"Enter a paragraph: \").strip()\n",
        "\n",
        "    # Correct the paragraph and evaluate accuracy\n",
        "    corrected_paragraph_pyspell, corrected_paragraph_fuzzywuzzy, total_accuracy, total_words = correct_paragraph(\n",
        "        paragraph_to_correct, pyspell, dictionary)\n",
        "\n",
        "    # Print the corrected paragraphs\n",
        "    print(\"\\nCorrected Paragraph (PySpellChecker):\")\n",
        "    print(\" \".join(corrected_paragraph_pyspell))\n",
        "\n",
        "    print(\"\\nCorrected Paragraph (FuzzyWuzzy):\")\n",
        "    print(\" \".join(corrected_paragraph_fuzzywuzzy))\n",
        "\n",
        "    # Final Accuracy Calculation\n",
        "    print(\"\\nFinal Accuracy:\")\n",
        "    print(f\"PySpellChecker: {total_accuracy['pyspell'] / total_words * 100:.2f}%\")\n",
        "    print(f\"FuzzyWuzzy: {total_accuracy['fuzzywuzzy'] / total_words * 100:.2f}%\")"
      ],
      "metadata": {
        "colab": {
          "base_uri": "https://localhost:8080/"
        },
        "id": "omKaEbh56_oP",
        "outputId": "a180998a-7eb2-40e1-d206-6be7cb334390"
      },
      "execution_count": null,
      "outputs": [
        {
          "output_type": "stream",
          "name": "stdout",
          "text": [
            "Enter a paragraph: සීතල උඳුප් මහේ සාමයේ කුමරන්ගේ උපත පිළිබඳ පණිවුඩය රැගෙන මඳ නල දසත හමා යද්දී උදා වූ අසිරිමත් නත්තලෙහි ප්‍රීතයෙන් මුළු ලව ම නැහවී ගියේය.\n",
            "\n",
            "Corrected Paragraph (PySpellChecker):\n",
            "සීතල උඳුවප් මහේ සාමයේ කුමරුන්ගේ උපත පිළිබඳ පණිවුඩය රැගෙන මඳ නල දසත හමා යද්දී උදා වූ අසිරිමත් නත්තලෙහි ප්‍රීතියෙන් මුළු නව ම නැහැවී ගියේය\n",
            "\n",
            "Corrected Paragraph (FuzzyWuzzy):\n",
            "සීතල උඳුවප් මහේ සාමයේ කුමරුන්ගේ උපත පිළිබඳ පණිවුඩය රැගෙන මඳ නල දසත හමා යද්දී උදා වා අසිරිමත් නත්තලෙහි ප්‍රීතියෙන් මුළු ලව ම නැහැවී ගියේය\n",
            "\n",
            "Final Accuracy:\n",
            "PySpellChecker: 91.67%\n",
            "FuzzyWuzzy: 100.00%\n"
          ]
        }
      ]
    },
    {
      "cell_type": "code",
      "source": [
        "    # Input a paragraph\n",
        "    paragraph_to_correct = input(\"Enter a paragraph: \").strip()\n",
        "\n",
        "    # Correct the paragraph and evaluate accuracy\n",
        "    corrected_paragraph_pyspell, corrected_paragraph_fuzzywuzzy, total_accuracy, total_words = correct_paragraph(\n",
        "        paragraph_to_correct, pyspell, dictionary)\n",
        "\n",
        "    # Print the corrected paragraphs\n",
        "    print(\"\\nCorrected Paragraph (PySpellChecker):\")\n",
        "    print(\" \".join(corrected_paragraph_pyspell))\n",
        "\n",
        "    print(\"\\nCorrected Paragraph (FuzzyWuzzy):\")\n",
        "    print(\" \".join(corrected_paragraph_fuzzywuzzy))\n",
        "\n",
        "    # Final Accuracy Calculation\n",
        "    print(\"\\nFinal Accuracy:\")\n",
        "    print(f\"PySpellChecker: {total_accuracy['pyspell'] / total_words * 100:.2f}%\")\n",
        "    print(f\"FuzzyWuzzy: {total_accuracy['fuzzywuzzy'] / total_words * 100:.2f}%\")"
      ],
      "metadata": {
        "colab": {
          "base_uri": "https://localhost:8080/"
        },
        "id": "GoNWIleG70zW",
        "outputId": "7884d45a-95d7-4610-bbe8-4fd92f9803d8"
      },
      "execution_count": null,
      "outputs": [
        {
          "output_type": "stream",
          "name": "stdout",
          "text": [
            "Enter a paragraph: ප්‍රථමික අධ්‍යාපනය අවසන් කළ කුඩා එඩ්න්ඩ් පීරිස් කළඹ සාන්ත ජෝසප් විද්‍යායට ඇතුළත්ව එහි දීප්තිමත් ශිෂ්‍යකු වශයෙන් උසස් ලෙස සමත්කම් දක්වමින් ද්විතයක අධ්‍යනය නිම කරයි.\n",
            "\n",
            "Corrected Paragraph (PySpellChecker):\n",
            "ප්‍රාථමික අධ්‍යාපනය අවසන් කළ කුඩා එඩ්මන්ඩ් පීරිස් කළ සාන්ත ජෝසප් විද්‍යාලයට ඇතුළත්ව එහි දීප්තිමත් ශිෂ්‍යයකු වශයෙන් උසස් ලෙස සමත්කම් දක්වමින් ද්විතීයක අධ්‍යාපනය නිම කරයි.\n",
            "\n",
            "Corrected Paragraph (FuzzyWuzzy):\n",
            "ප්‍රාථමික අධ්‍යාපනය අවසන් කළ කුඩා එඩ්මන්ඩ් පීරිස් කොළඹ සාන්ත ජෝසප් විද්‍යාලයට ඇතුළත්ව එහි දීප්තිමත් ශිෂ්‍යයකු වශයෙන් උසස් ලෙස සමත්කම් දක්වමින් ද්විතීයක අධ්‍යාපනය නිම කරයි\n",
            "\n",
            "Final Accuracy:\n",
            "PySpellChecker: 91.67%\n",
            "FuzzyWuzzy: 100.00%\n"
          ]
        }
      ]
    },
    {
      "cell_type": "code",
      "source": [
        "    # Input a paragraph\n",
        "    paragraph_to_correct = input(\"Enter a paragraph: \").strip()\n",
        "\n",
        "    # Correct the paragraph and evaluate accuracy\n",
        "    corrected_paragraph_pyspell, corrected_paragraph_fuzzywuzzy, total_accuracy, total_words = correct_paragraph(\n",
        "        paragraph_to_correct, pyspell, dictionary)\n",
        "\n",
        "    # Print the corrected paragraphs\n",
        "    print(\"\\nCorrected Paragraph (PySpellChecker):\")\n",
        "    print(\" \".join(corrected_paragraph_pyspell))\n",
        "\n",
        "    print(\"\\nCorrected Paragraph (FuzzyWuzzy):\")\n",
        "    print(\" \".join(corrected_paragraph_fuzzywuzzy))\n",
        "\n",
        "    # Final Accuracy Calculation\n",
        "    print(\"\\nFinal Accuracy:\")\n",
        "    print(f\"PySpellChecker: {total_accuracy['pyspell'] / total_words * 100:.2f}%\")\n",
        "    print(f\"FuzzyWuzzy: {total_accuracy['fuzzywuzzy'] / total_words * 100:.2f}%\")"
      ],
      "metadata": {
        "colab": {
          "base_uri": "https://localhost:8080/"
        },
        "id": "6rsy8UHP8Luc",
        "outputId": "73a6bf10-7d3d-4f21-de9d-e598d21ed65e"
      },
      "execution_count": null,
      "outputs": [
        {
          "output_type": "stream",
          "name": "stdout",
          "text": [
            "Enter a paragraph: සියනෑ කෝරළයේ කිරිඳිවල නගයට ආසන්න රදාවන ගම් පියසෙහි දී මහගමසේකර මහත උපන්නේය. ඔහු පස කලෙක සිය නිර්මණ ජිවයට එම අත්දැකීම් පිටිවහලක් කර ගත්තේය.\n",
            "\n",
            "Corrected Paragraph (PySpellChecker):\n",
            "සියනෑ කෝරළයේ කිරිඳිවැල නගරයට ආසන්න රදාවාන ගම් පියසෙහි දී මහගමසේකර මහතා උපන්නේය ඔහු පසු කලෙක සිය නිර්මාණ ජිවිතයට එම අත්දැකීම් පිටිවහලක් කර ගත්තේය\n",
            "\n",
            "Corrected Paragraph (FuzzyWuzzy):\n",
            "සියනෑ කෝරළයේ කිරිඳිවැල නගරයට ආසන්න රදාවාන ගම් පියසෙහි ද මහගමසේකර මහතා උපන්නේය ඔහු පසු කලෙක සිය නිර්මාණ ජිවිතයට එම අත්දැකීම් පිටිවහලක් කර ගත්තාය\n",
            "\n",
            "Final Accuracy:\n",
            "PySpellChecker: 91.30%\n",
            "FuzzyWuzzy: 100.00%\n"
          ]
        }
      ]
    },
    {
      "cell_type": "code",
      "source": [
        "    # Input a paragraph\n",
        "    paragraph_to_correct = input(\"Enter a paragraph: \").strip()\n",
        "\n",
        "    # Correct the paragraph and evaluate accuracy\n",
        "    corrected_paragraph_pyspell, corrected_paragraph_fuzzywuzzy, total_accuracy, total_words = correct_paragraph(\n",
        "        paragraph_to_correct, pyspell, dictionary)\n",
        "\n",
        "    # Print the corrected paragraphs\n",
        "    print(\"\\nCorrected Paragraph (PySpellChecker):\")\n",
        "    print(\" \".join(corrected_paragraph_pyspell))\n",
        "\n",
        "    print(\"\\nCorrected Paragraph (FuzzyWuzzy):\")\n",
        "    print(\" \".join(corrected_paragraph_fuzzywuzzy))\n",
        "\n",
        "    # Final Accuracy Calculation\n",
        "    print(\"\\nFinal Accuracy:\")\n",
        "    print(f\"PySpellChecker: {total_accuracy['pyspell'] / total_words * 100:.2f}%\")\n",
        "    print(f\"FuzzyWuzzy: {total_accuracy['fuzzywuzzy'] / total_words * 100:.2f}%\")"
      ],
      "metadata": {
        "colab": {
          "base_uri": "https://localhost:8080/"
        },
        "id": "ZpisB-ot8j7z",
        "outputId": "12ffeb3a-4ec4-43e3-ed8e-89bbdb90f53e"
      },
      "execution_count": null,
      "outputs": [
        {
          "output_type": "stream",
          "name": "stdout",
          "text": [
            "Enter a paragraph: මිනිසුන් දෙදනෙකු මටර් රථ ක්‍රීඩවක යෙදෙයි. තරඟකරුවෙක් අනකා හඹා යයි.  මිනිසෙක් ධානය වන මොටර් රයක එල්ල  සිටිය.\n",
            "\n",
            "Corrected Paragraph (PySpellChecker):\n",
            "මිනිසුන් දෙදෙනෙකු මොටර් රථ ක්‍රීඩාවක යෙදෙයි. තරඟකරුවෙක් අනෙකා හඹා යයි. මිනිසෙක් ධාවනය වන මොටර් රථයක එල්ල සිටියි\n",
            "\n",
            "Corrected Paragraph (FuzzyWuzzy):\n",
            "මිනිසුන් දෙදෙනෙක් මොටර් රථ ක්‍රීඩාවක යෙදෙයි. තරඟකරුවෙක් අනෙකා හඹා යයි මිනිසෙක් ධාවනය වන මොටර් රථයක එල්ල සිටියි\n",
            "\n",
            "Final Accuracy:\n",
            "PySpellChecker: 88.24%\n",
            "FuzzyWuzzy: 100.00%\n"
          ]
        }
      ]
    }
  ]
}